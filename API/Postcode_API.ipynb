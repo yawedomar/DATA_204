{
 "cells": [
  {
   "attachments": {},
   "cell_type": "markdown",
   "metadata": {},
   "source": [
    "API Endpoint - the point of entry in a communication channel when two systems are interacting"
   ]
  },
  {
   "cell_type": "code",
   "execution_count": 104,
   "metadata": {},
   "outputs": [],
   "source": [
    "import requests\n",
    "import json"
   ]
  },
  {
   "attachments": {},
   "cell_type": "markdown",
   "metadata": {},
   "source": [
    "GET METHOD: used to retreive data from a server at the specified resource."
   ]
  },
  {
   "cell_type": "code",
   "execution_count": 105,
   "metadata": {},
   "outputs": [],
   "source": [
    "# Creating a GET request on 'postcode'\n",
    "post_code_req = requests.get(\"https://api.postcodes.io/postcodes/se120nb\")"
   ]
  },
  {
   "cell_type": "code",
   "execution_count": 106,
   "metadata": {},
   "outputs": [
    {
     "name": "stdout",
     "output_type": "stream",
     "text": [
      "<Response [200]>\n"
     ]
    }
   ],
   "source": [
    "print(post_code_req)  # Prints the response code [200] = 'ok'"
   ]
  },
  {
   "cell_type": "code",
   "execution_count": 107,
   "metadata": {},
   "outputs": [
    {
     "name": "stdout",
     "output_type": "stream",
     "text": [
      "200\n",
      "{'Date': 'Tue, 31 Jan 2023 12:41:29 GMT', 'Content-Type': 'application/json; charset=utf-8', 'Transfer-Encoding': 'chunked', 'Connection': 'keep-alive', 'x-gnu': 'Michael J Blanchard', 'access-control-allow-origin': '*', 'etag': 'W/\"39b-eFOurgTUfq0cLWA25ADUdR3Te44\"', 'CF-Cache-Status': 'HIT', 'Age': '75541', 'Report-To': '{\"endpoints\":[{\"url\":\"https:\\\\/\\\\/a.nel.cloudflare.com\\\\/report\\\\/v3?s=E%2FKNxU42zP3phCymcIP%2FQwTacLQegbATdx0AtIyfQ4MlXStPj3puCHSJWlR1%2FhtYVWet9DGN1jICGNDB5zawzhN3PM3rqSXYvLzYCc1dUIBgda22a7KjBN4DJXgnJlHpQgg%3D\"}],\"group\":\"cf-nel\",\"max_age\":604800}', 'NEL': '{\"success_fraction\":0,\"report_to\":\"cf-nel\",\"max_age\":604800}', 'Vary': 'Accept-Encoding', 'Server': 'cloudflare', 'CF-RAY': '792285962a1d891e-LHR', 'Content-Encoding': 'gzip'}\n"
     ]
    }
   ],
   "source": [
    "print(post_code_req.status_code)\n",
    "print(post_code_req.headers) # information about the response itself\n"
   ]
  },
  {
   "cell_type": "code",
   "execution_count": 108,
   "metadata": {},
   "outputs": [
    {
     "data": {
      "text/plain": [
       "b'{\"status\":200,\"result\":{\"postcode\":\"SE12 0NB\",\"quality\":1,\"eastings\":539962,\"northings\":173639,\"country\":\"England\",\"nhs_ha\":\"London\",\"longitude\":0.012569,\"latitude\":51.444454,\"european_electoral_region\":\"London\",\"primary_care_trust\":\"Lewisham\",\"region\":\"London\",\"lsoa\":\"Lewisham 023B\",\"msoa\":\"Lewisham 023\",\"incode\":\"0NB\",\"outcode\":\"SE12\",\"parliamentary_constituency\":\"Lewisham East\",\"admin_district\":\"Lewisham\",\"parish\":\"Lewisham, unparished area\",\"admin_county\":null,\"date_of_introduction\":\"198001\",\"admin_ward\":\"Grove Park\",\"ced\":null,\"ccg\":\"NHS South East London\",\"nuts\":\"Lewisham and Southwark\",\"pfa\":\"Metropolitan Police\",\"codes\":{\"admin_district\":\"E09000023\",\"admin_county\":\"E99999999\",\"admin_ward\":\"E05013723\",\"parish\":\"E43000213\",\"parliamentary_constituency\":\"E14000787\",\"ccg\":\"E38000244\",\"ccg_id\":\"72Q\",\"ced\":\"E99999999\",\"nuts\":\"TLI44\",\"lsoa\":\"E01003268\",\"msoa\":\"E02000675\",\"lau2\":\"E09000023\",\"pfa\":\"E23000001\"}}}'"
      ]
     },
     "execution_count": 108,
     "metadata": {},
     "output_type": "execute_result"
    }
   ],
   "source": [
    "post_code_req._content   # The response/content in 'bytes' --> b'"
   ]
  },
  {
   "cell_type": "code",
   "execution_count": 109,
   "metadata": {},
   "outputs": [
    {
     "data": {
      "text/plain": [
       "'{\"status\":200,\"result\":{\"postcode\":\"SE12 0NB\",\"quality\":1,\"eastings\":539962,\"northings\":173639,\"country\":\"England\",\"nhs_ha\":\"London\",\"longitude\":0.012569,\"latitude\":51.444454,\"european_electoral_region\":\"London\",\"primary_care_trust\":\"Lewisham\",\"region\":\"London\",\"lsoa\":\"Lewisham 023B\",\"msoa\":\"Lewisham 023\",\"incode\":\"0NB\",\"outcode\":\"SE12\",\"parliamentary_constituency\":\"Lewisham East\",\"admin_district\":\"Lewisham\",\"parish\":\"Lewisham, unparished area\",\"admin_county\":null,\"date_of_introduction\":\"198001\",\"admin_ward\":\"Grove Park\",\"ced\":null,\"ccg\":\"NHS South East London\",\"nuts\":\"Lewisham and Southwark\",\"pfa\":\"Metropolitan Police\",\"codes\":{\"admin_district\":\"E09000023\",\"admin_county\":\"E99999999\",\"admin_ward\":\"E05013723\",\"parish\":\"E43000213\",\"parliamentary_constituency\":\"E14000787\",\"ccg\":\"E38000244\",\"ccg_id\":\"72Q\",\"ced\":\"E99999999\",\"nuts\":\"TLI44\",\"lsoa\":\"E01003268\",\"msoa\":\"E02000675\",\"lau2\":\"E09000023\",\"pfa\":\"E23000001\"}}}'"
      ]
     },
     "execution_count": 109,
     "metadata": {},
     "output_type": "execute_result"
    }
   ],
   "source": [
    "post_code_req.text   #prints in a string fotmat"
   ]
  },
  {
   "cell_type": "code",
   "execution_count": 110,
   "metadata": {},
   "outputs": [
    {
     "name": "stdout",
     "output_type": "stream",
     "text": [
      "{'status': 200, 'result': {'postcode': 'SE12 0NB', 'quality': 1, 'eastings': 539962, 'northings': 173639, 'country': 'England', 'nhs_ha': 'London', 'longitude': 0.012569, 'latitude': 51.444454, 'european_electoral_region': 'London', 'primary_care_trust': 'Lewisham', 'region': 'London', 'lsoa': 'Lewisham 023B', 'msoa': 'Lewisham 023', 'incode': '0NB', 'outcode': 'SE12', 'parliamentary_constituency': 'Lewisham East', 'admin_district': 'Lewisham', 'parish': 'Lewisham, unparished area', 'admin_county': None, 'date_of_introduction': '198001', 'admin_ward': 'Grove Park', 'ced': None, 'ccg': 'NHS South East London', 'nuts': 'Lewisham and Southwark', 'pfa': 'Metropolitan Police', 'codes': {'admin_district': 'E09000023', 'admin_county': 'E99999999', 'admin_ward': 'E05013723', 'parish': 'E43000213', 'parliamentary_constituency': 'E14000787', 'ccg': 'E38000244', 'ccg_id': '72Q', 'ced': 'E99999999', 'nuts': 'TLI44', 'lsoa': 'E01003268', 'msoa': 'E02000675', 'lau2': 'E09000023', 'pfa': 'E23000001'}}}\n"
     ]
    }
   ],
   "source": [
    "data = post_code_req.json()   # loads it in json\n",
    "print(data)   # prints in python dic format and this time its not in a string format"
   ]
  },
  {
   "cell_type": "code",
   "execution_count": 111,
   "metadata": {},
   "outputs": [
    {
     "name": "stdout",
     "output_type": "stream",
     "text": [
      "{'postcode': 'SE12 0NB', 'quality': 1, 'eastings': 539962, 'northings': 173639, 'country': 'England', 'nhs_ha': 'London', 'longitude': 0.012569, 'latitude': 51.444454, 'european_electoral_region': 'London', 'primary_care_trust': 'Lewisham', 'region': 'London', 'lsoa': 'Lewisham 023B', 'msoa': 'Lewisham 023', 'incode': '0NB', 'outcode': 'SE12', 'parliamentary_constituency': 'Lewisham East', 'admin_district': 'Lewisham', 'parish': 'Lewisham, unparished area', 'admin_county': None, 'date_of_introduction': '198001', 'admin_ward': 'Grove Park', 'ced': None, 'ccg': 'NHS South East London', 'nuts': 'Lewisham and Southwark', 'pfa': 'Metropolitan Police', 'codes': {'admin_district': 'E09000023', 'admin_county': 'E99999999', 'admin_ward': 'E05013723', 'parish': 'E43000213', 'parliamentary_constituency': 'E14000787', 'ccg': 'E38000244', 'ccg_id': '72Q', 'ced': 'E99999999', 'nuts': 'TLI44', 'lsoa': 'E01003268', 'msoa': 'E02000675', 'lau2': 'E09000023', 'pfa': 'E23000001'}}\n"
     ]
    }
   ],
   "source": [
    "post_code_dict = post_code_req.json()  # save it as a dic\n",
    "print(post_code_dict[\"result\"]) # want only the results "
   ]
  },
  {
   "attachments": {},
   "cell_type": "markdown",
   "metadata": {},
   "source": [
    "POST METHOD: used to send data to a server to create/update a resource. The data sent to the server with POST is stored in the request body of the HTTP request "
   ]
  },
  {
   "cell_type": "code",
   "execution_count": 112,
   "metadata": {},
   "outputs": [],
   "source": [
    "# Data for a post request - where you want to look up different postcodes\n",
    "data = {\"postcodes\": [\"0X49 5NU\", \"M32 0J6\", \"NE30 1DP\"]}\n",
    "headers = {\"Content-Type\": \"application/json\"}\n"
   ]
  },
  {
   "cell_type": "code",
   "execution_count": 113,
   "metadata": {},
   "outputs": [],
   "source": [
    "post_multi_req = requests.post(\"https://api.postcodes.io/postcodes/\", headers=headers, data=data)"
   ]
  },
  {
   "cell_type": "code",
   "execution_count": 114,
   "metadata": {},
   "outputs": [
    {
     "data": {
      "text/plain": [
       "<Response [400]>"
      ]
     },
     "execution_count": 114,
     "metadata": {},
     "output_type": "execute_result"
    }
   ],
   "source": [
    "post_multi_req  # Not a good response - 'Bad request'"
   ]
  },
  {
   "cell_type": "code",
   "execution_count": 115,
   "metadata": {},
   "outputs": [],
   "source": [
    "#Fixing our push request\n",
    "\n",
    "data = json.dumps({\"postcodes\": [\"0X49 5NU\", \"M32 0J6\", \"NE30 1DP\"]})\n",
    "headers = {\"Content-Type\": \"application/json\"}\n",
    "\n",
    "# json.dumps() --> formatted string 'json string'\n",
    "# json.dump() --> stream object, file to write to"
   ]
  },
  {
   "cell_type": "code",
   "execution_count": 116,
   "metadata": {},
   "outputs": [],
   "source": [
    "post_multi_req = requests.post(\"https://api.postcodes.io/postcodes/\", headers=headers, data=data)"
   ]
  },
  {
   "cell_type": "code",
   "execution_count": 117,
   "metadata": {},
   "outputs": [
    {
     "data": {
      "text/plain": [
       "<Response [200]>"
      ]
     },
     "execution_count": 117,
     "metadata": {},
     "output_type": "execute_result"
    }
   ],
   "source": [
    "post_multi_req  # Everything is look good"
   ]
  },
  {
   "cell_type": "code",
   "execution_count": 118,
   "metadata": {},
   "outputs": [],
   "source": [
    "# Push request\n",
    "post_multi_req = requests.post(\"https://api.postcodes.io/postcodes/\", headers=headers, data=data)"
   ]
  },
  {
   "cell_type": "code",
   "execution_count": 119,
   "metadata": {},
   "outputs": [
    {
     "data": {
      "text/plain": [
       "{'status': 200,\n",
       " 'result': [{'query': '0X49 5NU', 'result': None},\n",
       "  {'query': 'M32 0J6', 'result': None},\n",
       "  {'query': 'NE30 1DP',\n",
       "   'result': {'postcode': 'NE30 1DP',\n",
       "    'quality': 1,\n",
       "    'eastings': 435958,\n",
       "    'northings': 568671,\n",
       "    'country': 'England',\n",
       "    'nhs_ha': 'North East',\n",
       "    'longitude': -1.439269,\n",
       "    'latitude': 55.011303,\n",
       "    'european_electoral_region': 'North East',\n",
       "    'primary_care_trust': 'North Tyneside',\n",
       "    'region': 'North East',\n",
       "    'lsoa': 'North Tyneside 016C',\n",
       "    'msoa': 'North Tyneside 016',\n",
       "    'incode': '1DP',\n",
       "    'outcode': 'NE30',\n",
       "    'parliamentary_constituency': 'Tynemouth',\n",
       "    'admin_district': 'North Tyneside',\n",
       "    'parish': 'North Tyneside, unparished area',\n",
       "    'admin_county': None,\n",
       "    'date_of_introduction': '201303',\n",
       "    'admin_ward': 'Tynemouth',\n",
       "    'ced': None,\n",
       "    'ccg': 'NHS North East and North Cumbria',\n",
       "    'nuts': 'Tyneside',\n",
       "    'pfa': 'Northumbria',\n",
       "    'codes': {'admin_district': 'E08000022',\n",
       "     'admin_county': 'E99999999',\n",
       "     'admin_ward': 'E05001130',\n",
       "     'parish': 'E43000176',\n",
       "     'parliamentary_constituency': 'E14001006',\n",
       "     'ccg': 'E38000127',\n",
       "     'ccg_id': '99C',\n",
       "     'ced': 'E99999999',\n",
       "     'nuts': 'TLC22',\n",
       "     'lsoa': 'E01008561',\n",
       "     'msoa': 'E02001753',\n",
       "     'lau2': 'E08000022',\n",
       "     'pfa': 'E23000007'}}}]}"
      ]
     },
     "execution_count": 119,
     "metadata": {},
     "output_type": "execute_result"
    }
   ],
   "source": [
    "post_multi_req.json()"
   ]
  },
  {
   "cell_type": "code",
   "execution_count": 122,
   "metadata": {},
   "outputs": [
    {
     "data": {
      "text/plain": [
       "'0X49 5NU'"
      ]
     },
     "execution_count": 122,
     "metadata": {},
     "output_type": "execute_result"
    }
   ],
   "source": [
    "post_multi_req.json()[\"result\"][0][\"query\"]"
   ]
  }
 ],
 "metadata": {
  "kernelspec": {
   "display_name": "Python 3",
   "language": "python",
   "name": "python3"
  },
  "language_info": {
   "codemirror_mode": {
    "name": "ipython",
    "version": 3
   },
   "file_extension": ".py",
   "mimetype": "text/x-python",
   "name": "python",
   "nbconvert_exporter": "python",
   "pygments_lexer": "ipython3",
   "version": "3.11.1"
  },
  "orig_nbformat": 4,
  "vscode": {
   "interpreter": {
    "hash": "acd2ce6c7faff7b1a0bc37552e4fafa8b9624856f11cac0dc7e108d2381226fd"
   }
  }
 },
 "nbformat": 4,
 "nbformat_minor": 2
}
