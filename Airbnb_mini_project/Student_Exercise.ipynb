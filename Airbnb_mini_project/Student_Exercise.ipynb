{
 "cells": [
  {
   "cell_type": "code",
   "execution_count": 204,
   "metadata": {},
   "outputs": [],
   "source": [
    "# Initialize the entry point\n",
    "from pyspark.sql import SparkSession\n",
    "from pyspark.sql.types import StringType, StructField,IntegerType,StructType\n",
    "from pyspark.sql.functions import desc, asc, col, cast, avg, round, min, max\n",
    "spark = SparkSession.builder.appName(\"local_spark\").getOrCreate()"
   ]
  },
  {
   "cell_type": "code",
   "execution_count": 205,
   "metadata": {},
   "outputs": [
    {
     "data": {
      "text/html": [
       "\n",
       "            <div>\n",
       "                <p><b>SparkSession - in-memory</b></p>\n",
       "                \n",
       "        <div>\n",
       "            <p><b>SparkContext</b></p>\n",
       "\n",
       "            <p><a href=\"http://DESKTOP-5FBHUIV:4041\">Spark UI</a></p>\n",
       "\n",
       "            <dl>\n",
       "              <dt>Version</dt>\n",
       "                <dd><code>v3.3.1</code></dd>\n",
       "              <dt>Master</dt>\n",
       "                <dd><code>local[*]</code></dd>\n",
       "              <dt>AppName</dt>\n",
       "                <dd><code>local_spark</code></dd>\n",
       "            </dl>\n",
       "        </div>\n",
       "        \n",
       "            </div>\n",
       "        "
      ],
      "text/plain": [
       "<pyspark.sql.session.SparkSession at 0x197a46c2d90>"
      ]
     },
     "execution_count": 205,
     "metadata": {},
     "output_type": "execute_result"
    }
   ],
   "source": [
    "spark"
   ]
  },
  {
   "attachments": {},
   "cell_type": "markdown",
   "metadata": {},
   "source": [
    "1. Read data from CSV"
   ]
  },
  {
   "attachments": {},
   "cell_type": "markdown",
   "metadata": {},
   "source": [
    "inferSchema=True assumes datatype"
   ]
  },
  {
   "cell_type": "code",
   "execution_count": 206,
   "metadata": {},
   "outputs": [
    {
     "name": "stdout",
     "output_type": "stream",
     "text": [
      "+---+----------------+-----+----+------+\n",
      "| id|            name|class|mark|gender|\n",
      "+---+----------------+-----+----+------+\n",
      "|  1|    Emily Hardie| Four|  75|female|\n",
      "|  2|       John Star|Three|  85|  male|\n",
      "|  3|  Arnold Walker |Three|  55|  male|\n",
      "|  4|      Reana Talu| Four|  60|female|\n",
      "|  5| Sidona Williams| Four|  60|female|\n",
      "|  6|       Alex John| Four|  55|  male|\n",
      "|  7|    Robert John |Three|  78|  male|\n",
      "|  8|       Lee Malva| Four|  85|  male|\n",
      "|  9|    Wookie Davey|  Two|  78|  male|\n",
      "| 10|      Diane Rose|  Two|  55|female|\n",
      "| 11|    Holly Daives|  Two|  89|female|\n",
      "| 12|        Eva Cup |Three|  94|female|\n",
      "| 13| Victoria Mathew| Four|  88|female|\n",
      "| 14|       Iris Zhao|  Two|  88|female|\n",
      "| 15|       Scott Row| Four|  88|  male|\n",
      "| 16|     Daniel Page| Four|  88|  male|\n",
      "| 17|  James Williams|Three|  54|  male|\n",
      "| 18|Martin Johnston | Four|  75|  male|\n",
      "| 19|     John Smith | Four|  48|  male|\n",
      "| 20|       Lenny Lee|Three|  65|female|\n",
      "+---+----------------+-----+----+------+\n",
      "only showing top 20 rows\n",
      "\n"
     ]
    }
   ],
   "source": [
    "sparkdf = spark.read.csv('students.csv', header=True)\n",
    "sparkdf.show()"
   ]
  },
  {
   "attachments": {},
   "cell_type": "markdown",
   "metadata": {},
   "source": [
    "2. Print 5 rows ( !!! head() method behaves differently in pySpark) "
   ]
  },
  {
   "cell_type": "code",
   "execution_count": 207,
   "metadata": {},
   "outputs": [
    {
     "name": "stdout",
     "output_type": "stream",
     "text": [
      "+---+---------------+-----+----+------+\n",
      "| id|           name|class|mark|gender|\n",
      "+---+---------------+-----+----+------+\n",
      "|  1|   Emily Hardie| Four|  75|female|\n",
      "|  2|      John Star|Three|  85|  male|\n",
      "|  3| Arnold Walker |Three|  55|  male|\n",
      "|  4|     Reana Talu| Four|  60|female|\n",
      "|  5|Sidona Williams| Four|  60|female|\n",
      "+---+---------------+-----+----+------+\n",
      "only showing top 5 rows\n",
      "\n"
     ]
    }
   ],
   "source": [
    "# Displays table\n",
    "sparkdf.show(5)"
   ]
  },
  {
   "cell_type": "code",
   "execution_count": 208,
   "metadata": {},
   "outputs": [
    {
     "data": {
      "text/plain": [
       "[Row(id='1', name='Emily Hardie', class='Four', mark='75', gender='female'),\n",
       " Row(id='2', name='John Star', class='Three', mark='85', gender='male'),\n",
       " Row(id='3', name='Arnold Walker ', class='Three', mark='55', gender='male'),\n",
       " Row(id='4', name='Reana Talu', class='Four', mark='60', gender='female'),\n",
       " Row(id='5', name='Sidona Williams', class='Four', mark='60', gender='female')]"
      ]
     },
     "execution_count": 208,
     "metadata": {},
     "output_type": "execute_result"
    }
   ],
   "source": [
    "# In a matrix if used the Head() method\n",
    "sparkdf.head(5)"
   ]
  },
  {
   "attachments": {},
   "cell_type": "markdown",
   "metadata": {},
   "source": [
    "3.Show schema of the spark data frame. "
   ]
  },
  {
   "cell_type": "code",
   "execution_count": 209,
   "metadata": {},
   "outputs": [
    {
     "name": "stdout",
     "output_type": "stream",
     "text": [
      "root\n",
      " |-- id: string (nullable = true)\n",
      " |-- name: string (nullable = true)\n",
      " |-- class: string (nullable = true)\n",
      " |-- mark: string (nullable = true)\n",
      " |-- gender: string (nullable = true)\n",
      "\n"
     ]
    }
   ],
   "source": [
    "sparkdf.printSchema()"
   ]
  },
  {
   "attachments": {},
   "cell_type": "markdown",
   "metadata": {},
   "source": [
    "4. Update schema after reading form CSV. (StructField)"
   ]
  },
  {
   "cell_type": "code",
   "execution_count": 210,
   "metadata": {},
   "outputs": [],
   "source": [
    "schema = StructType([ \n",
    "        StructField(\"id\", IntegerType(),True),\n",
    "        StructField(\"name\", StringType(),True),\n",
    "        StructField(\"class\", StringType(),True),\n",
    "        StructField(\"mark\", IntegerType(),True),\n",
    "        StructField(\"gender\", StringType(),True),\n",
    "])"
   ]
  },
  {
   "cell_type": "code",
   "execution_count": 211,
   "metadata": {},
   "outputs": [
    {
     "name": "stdout",
     "output_type": "stream",
     "text": [
      "root\n",
      " |-- id: integer (nullable = true)\n",
      " |-- name: string (nullable = true)\n",
      " |-- class: string (nullable = true)\n",
      " |-- mark: integer (nullable = true)\n",
      " |-- gender: string (nullable = true)\n",
      "\n",
      "+----+----------------+-----+----+------+\n",
      "|  id|            name|class|mark|gender|\n",
      "+----+----------------+-----+----+------+\n",
      "|null|            name|class|null|gender|\n",
      "|   1|    Emily Hardie| Four|  75|female|\n",
      "|   2|       John Star|Three|  85|  male|\n",
      "|   3|  Arnold Walker |Three|  55|  male|\n",
      "|   4|      Reana Talu| Four|  60|female|\n",
      "|   5| Sidona Williams| Four|  60|female|\n",
      "|   6|       Alex John| Four|  55|  male|\n",
      "|   7|    Robert John |Three|  78|  male|\n",
      "|   8|       Lee Malva| Four|  85|  male|\n",
      "|   9|    Wookie Davey|  Two|  78|  male|\n",
      "|  10|      Diane Rose|  Two|  55|female|\n",
      "|  11|    Holly Daives|  Two|  89|female|\n",
      "|  12|        Eva Cup |Three|  94|female|\n",
      "|  13| Victoria Mathew| Four|  88|female|\n",
      "|  14|       Iris Zhao|  Two|  88|female|\n",
      "|  15|       Scott Row| Four|  88|  male|\n",
      "|  16|     Daniel Page| Four|  88|  male|\n",
      "|  17|  James Williams|Three|  54|  male|\n",
      "|  18|Martin Johnston | Four|  75|  male|\n",
      "|  19|     John Smith | Four|  48|  male|\n",
      "+----+----------------+-----+----+------+\n",
      "only showing top 20 rows\n",
      "\n"
     ]
    }
   ],
   "source": [
    "df = spark.read.schema(schema).csv('students.csv')\n",
    "df.printSchema()\n",
    "df.show()"
   ]
  },
  {
   "attachments": {},
   "cell_type": "markdown",
   "metadata": {},
   "source": [
    "5)\tGive schema as option while reading from CSV"
   ]
  },
  {
   "cell_type": "code",
   "execution_count": 212,
   "metadata": {},
   "outputs": [
    {
     "name": "stdout",
     "output_type": "stream",
     "text": [
      "+----+----------------+-----+----+------+\n",
      "|  id|            name|class|mark|gender|\n",
      "+----+----------------+-----+----+------+\n",
      "|null|            name|class|null|gender|\n",
      "|   1|    Emily Hardie| Four|  75|female|\n",
      "|   2|       John Star|Three|  85|  male|\n",
      "|   3|  Arnold Walker |Three|  55|  male|\n",
      "|   4|      Reana Talu| Four|  60|female|\n",
      "|   5| Sidona Williams| Four|  60|female|\n",
      "|   6|       Alex John| Four|  55|  male|\n",
      "|   7|    Robert John |Three|  78|  male|\n",
      "|   8|       Lee Malva| Four|  85|  male|\n",
      "|   9|    Wookie Davey|  Two|  78|  male|\n",
      "|  10|      Diane Rose|  Two|  55|female|\n",
      "|  11|    Holly Daives|  Two|  89|female|\n",
      "|  12|        Eva Cup |Three|  94|female|\n",
      "|  13| Victoria Mathew| Four|  88|female|\n",
      "|  14|       Iris Zhao|  Two|  88|female|\n",
      "|  15|       Scott Row| Four|  88|  male|\n",
      "|  16|     Daniel Page| Four|  88|  male|\n",
      "|  17|  James Williams|Three|  54|  male|\n",
      "|  18|Martin Johnston | Four|  75|  male|\n",
      "|  19|     John Smith | Four|  48|  male|\n",
      "+----+----------------+-----+----+------+\n",
      "only showing top 20 rows\n",
      "\n"
     ]
    }
   ],
   "source": [
    "df = spark.read.schema(schema).csv('students.csv')\n",
    "df.show()"
   ]
  },
  {
   "attachments": {},
   "cell_type": "markdown",
   "metadata": {},
   "source": [
    "update schema without reading the files again"
   ]
  },
  {
   "cell_type": "code",
   "execution_count": 213,
   "metadata": {},
   "outputs": [
    {
     "data": {
      "text/plain": [
       "<bound method DataFrame.printSchema of DataFrame[id: int, name: string, class: string, MARK: int, gender: string]>"
      ]
     },
     "execution_count": 213,
     "metadata": {},
     "output_type": "execute_result"
    }
   ],
   "source": [
    "df.withColumn('MARK',col('mark').cast(IntegerType())).printSchema"
   ]
  },
  {
   "attachments": {},
   "cell_type": "markdown",
   "metadata": {},
   "source": [
    "6)\tShow columns and show summary statistics of numeric columns "
   ]
  },
  {
   "cell_type": "code",
   "execution_count": 214,
   "metadata": {},
   "outputs": [
    {
     "data": {
      "text/plain": [
       "['id', 'name', 'class', 'mark', 'gender']"
      ]
     },
     "execution_count": 214,
     "metadata": {},
     "output_type": "execute_result"
    }
   ],
   "source": [
    "df.columns"
   ]
  },
  {
   "cell_type": "code",
   "execution_count": 215,
   "metadata": {},
   "outputs": [
    {
     "name": "stdout",
     "output_type": "stream",
     "text": [
      "+-------+------------------+---------+-----+-----------------+------+\n",
      "|summary|                id|     name|class|             mark|gender|\n",
      "+-------+------------------+---------+-----+-----------------+------+\n",
      "|  count|                35|       36|   36|               35|    36|\n",
      "|   mean|              18.0|     null| null|75.51428571428572|  null|\n",
      "| stddev|10.246950765959598|     null| null|13.95448784772974|  null|\n",
      "|    min|                 1|Alex John| Four|               48|female|\n",
      "|    max|                35|     name|class|               96|  male|\n",
      "+-------+------------------+---------+-----+-----------------+------+\n",
      "\n"
     ]
    }
   ],
   "source": [
    "df.describe().show()  # SUMMARY OF pySpark"
   ]
  },
  {
   "cell_type": "code",
   "execution_count": 216,
   "metadata": {},
   "outputs": [
    {
     "name": "stdout",
     "output_type": "stream",
     "text": [
      "+-------+------------------+---------+-----+-----------------+------+\n",
      "|summary|                id|     name|class|             mark|gender|\n",
      "+-------+------------------+---------+-----+-----------------+------+\n",
      "|  count|                35|       36|   36|               35|    36|\n",
      "|   mean|              18.0|     null| null|75.51428571428572|  null|\n",
      "| stddev|10.246950765959598|     null| null|13.95448784772974|  null|\n",
      "|    min|                 1|Alex John| Four|               48|female|\n",
      "|    25%|                 9|     null| null|               60|  null|\n",
      "|    50%|                18|     null| null|               79|  null|\n",
      "|    75%|                27|     null| null|               88|  null|\n",
      "|    max|                35|     name|class|               96|  male|\n",
      "+-------+------------------+---------+-----+-----------------+------+\n",
      "\n"
     ]
    }
   ],
   "source": [
    "# With quartiles\n",
    "df.summary().show()"
   ]
  },
  {
   "attachments": {},
   "cell_type": "markdown",
   "metadata": {},
   "source": [
    "7)\tRead from JSON"
   ]
  },
  {
   "cell_type": "code",
   "execution_count": 217,
   "metadata": {},
   "outputs": [
    {
     "name": "stdout",
     "output_type": "stream",
     "text": [
      "+----+-------+\n",
      "| age|   name|\n",
      "+----+-------+\n",
      "|null|Michael|\n",
      "|  36|   Alan|\n",
      "|  19| Justin|\n",
      "+----+-------+\n",
      "\n"
     ]
    }
   ],
   "source": [
    "js= json_spark_df = spark.read.json('people.json')\n",
    "js.show()\n"
   ]
  },
  {
   "attachments": {},
   "cell_type": "markdown",
   "metadata": {},
   "source": [
    "8)\tSubset the Dataframe for one and then more than one columns. "
   ]
  },
  {
   "cell_type": "code",
   "execution_count": 218,
   "metadata": {},
   "outputs": [
    {
     "name": "stdout",
     "output_type": "stream",
     "text": [
      "+----+\n",
      "|  id|\n",
      "+----+\n",
      "|null|\n",
      "|   1|\n",
      "|   2|\n",
      "|   3|\n",
      "|   4|\n",
      "|   5|\n",
      "|   6|\n",
      "|   7|\n",
      "|   8|\n",
      "|   9|\n",
      "|  10|\n",
      "|  11|\n",
      "|  12|\n",
      "|  13|\n",
      "|  14|\n",
      "|  15|\n",
      "|  16|\n",
      "|  17|\n",
      "|  18|\n",
      "|  19|\n",
      "+----+\n",
      "only showing top 20 rows\n",
      "\n"
     ]
    }
   ],
   "source": [
    "id = df.select('id')\n",
    "id.show()"
   ]
  },
  {
   "cell_type": "code",
   "execution_count": 219,
   "metadata": {},
   "outputs": [
    {
     "name": "stdout",
     "output_type": "stream",
     "text": [
      "+----+----+\n",
      "|  id|mark|\n",
      "+----+----+\n",
      "|null|null|\n",
      "|   1|  75|\n",
      "|   2|  85|\n",
      "|   3|  55|\n",
      "|   4|  60|\n",
      "|   5|  60|\n",
      "|   6|  55|\n",
      "|   7|  78|\n",
      "|   8|  85|\n",
      "|   9|  78|\n",
      "|  10|  55|\n",
      "|  11|  89|\n",
      "|  12|  94|\n",
      "|  13|  88|\n",
      "|  14|  88|\n",
      "|  15|  88|\n",
      "|  16|  88|\n",
      "|  17|  54|\n",
      "|  18|  75|\n",
      "|  19|  48|\n",
      "+----+----+\n",
      "only showing top 20 rows\n",
      "\n"
     ]
    }
   ],
   "source": [
    "id_name = df.select('id','mark')\n",
    "id_name.show()"
   ]
  },
  {
   "attachments": {},
   "cell_type": "markdown",
   "metadata": {},
   "source": [
    "9)\tFilter Data frame based on condition. \n",
    "- Filter according to gender \n",
    "- Filter according to mark >50\n",
    "- Filter by multiple conditions\n"
   ]
  },
  {
   "cell_type": "code",
   "execution_count": 220,
   "metadata": {},
   "outputs": [
    {
     "name": "stdout",
     "output_type": "stream",
     "text": [
      "+---+----------------+-----+----+------+\n",
      "| id|            name|class|mark|gender|\n",
      "+---+----------------+-----+----+------+\n",
      "|  2|       John Star|Three|  85|  male|\n",
      "|  3|  Arnold Walker |Three|  55|  male|\n",
      "|  6|       Alex John| Four|  55|  male|\n",
      "|  7|    Robert John |Three|  78|  male|\n",
      "|  8|       Lee Malva| Four|  85|  male|\n",
      "|  9|    Wookie Davey|  Two|  78|  male|\n",
      "| 15|       Scott Row| Four|  88|  male|\n",
      "| 16|     Daniel Page| Four|  88|  male|\n",
      "| 17|  James Williams|Three|  54|  male|\n",
      "| 18|Martin Johnston | Four|  75|  male|\n",
      "| 19|     John Smith | Four|  48|  male|\n",
      "| 23|       Sam Adan |Three|  79|  male|\n",
      "| 24|   Nova Prescott|  Two|  78|  male|\n",
      "| 25|  William Taylor| Four|  88|  male|\n",
      "| 26|   Laurin Wilson|Three|  79|  male|\n",
      "| 29|         Ben Day| Four|  55|  male|\n",
      "| 31|      Chris Ball| Four|  88|  male|\n",
      "| 34|   Garry Richard|Three|  69|  male|\n",
      "+---+----------------+-----+----+------+\n",
      "\n"
     ]
    }
   ],
   "source": [
    "# Can use [] brackets to run the query\n",
    "df.filter(df['gender'] =='male').show()"
   ]
  },
  {
   "cell_type": "code",
   "execution_count": 221,
   "metadata": {},
   "outputs": [
    {
     "name": "stdout",
     "output_type": "stream",
     "text": [
      "+---+----------------+-----+----+------+\n",
      "| id|            name|class|mark|gender|\n",
      "+---+----------------+-----+----+------+\n",
      "|  2|       John Star|Three|  85|  male|\n",
      "|  3|  Arnold Walker |Three|  55|  male|\n",
      "|  6|       Alex John| Four|  55|  male|\n",
      "|  7|    Robert John |Three|  78|  male|\n",
      "|  8|       Lee Malva| Four|  85|  male|\n",
      "|  9|    Wookie Davey|  Two|  78|  male|\n",
      "| 15|       Scott Row| Four|  88|  male|\n",
      "| 16|     Daniel Page| Four|  88|  male|\n",
      "| 17|  James Williams|Three|  54|  male|\n",
      "| 18|Martin Johnston | Four|  75|  male|\n",
      "| 19|     John Smith | Four|  48|  male|\n",
      "| 23|       Sam Adan |Three|  79|  male|\n",
      "| 24|   Nova Prescott|  Two|  78|  male|\n",
      "| 25|  William Taylor| Four|  88|  male|\n",
      "| 26|   Laurin Wilson|Three|  79|  male|\n",
      "| 29|         Ben Day| Four|  55|  male|\n",
      "| 31|      Chris Ball| Four|  88|  male|\n",
      "| 34|   Garry Richard|Three|  69|  male|\n",
      "+---+----------------+-----+----+------+\n",
      "\n"
     ]
    }
   ],
   "source": [
    "df.filter(df.gender =='male').show()"
   ]
  },
  {
   "cell_type": "code",
   "execution_count": 222,
   "metadata": {},
   "outputs": [
    {
     "name": "stdout",
     "output_type": "stream",
     "text": [
      "+---+----------------+-----+----+------+\n",
      "| id|            name|class|mark|gender|\n",
      "+---+----------------+-----+----+------+\n",
      "|  1|    Emily Hardie| Four|  75|female|\n",
      "|  2|       John Star|Three|  85|  male|\n",
      "|  3|  Arnold Walker |Three|  55|  male|\n",
      "|  4|      Reana Talu| Four|  60|female|\n",
      "|  5| Sidona Williams| Four|  60|female|\n",
      "|  6|       Alex John| Four|  55|  male|\n",
      "|  7|    Robert John |Three|  78|  male|\n",
      "|  8|       Lee Malva| Four|  85|  male|\n",
      "|  9|    Wookie Davey|  Two|  78|  male|\n",
      "| 10|      Diane Rose|  Two|  55|female|\n",
      "| 11|    Holly Daives|  Two|  89|female|\n",
      "| 12|        Eva Cup |Three|  94|female|\n",
      "| 13| Victoria Mathew| Four|  88|female|\n",
      "| 14|       Iris Zhao|  Two|  88|female|\n",
      "| 15|       Scott Row| Four|  88|  male|\n",
      "| 16|     Daniel Page| Four|  88|  male|\n",
      "| 17|  James Williams|Three|  54|  male|\n",
      "| 18|Martin Johnston | Four|  75|  male|\n",
      "| 20|       Lenny Lee|Three|  65|female|\n",
      "| 21|    Ava Williams|  Two|  69|female|\n",
      "+---+----------------+-----+----+------+\n",
      "only showing top 20 rows\n",
      "\n"
     ]
    }
   ],
   "source": [
    "df.filter(df.mark>50).show()"
   ]
  },
  {
   "cell_type": "code",
   "execution_count": 223,
   "metadata": {},
   "outputs": [
    {
     "name": "stdout",
     "output_type": "stream",
     "text": [
      "+---+----------------+-----+----+------+\n",
      "| id|            name|class|mark|gender|\n",
      "+---+----------------+-----+----+------+\n",
      "|  2|       John Star|Three|  85|  male|\n",
      "|  3|  Arnold Walker |Three|  55|  male|\n",
      "|  6|       Alex John| Four|  55|  male|\n",
      "|  7|    Robert John |Three|  78|  male|\n",
      "|  8|       Lee Malva| Four|  85|  male|\n",
      "|  9|    Wookie Davey|  Two|  78|  male|\n",
      "| 15|       Scott Row| Four|  88|  male|\n",
      "| 16|     Daniel Page| Four|  88|  male|\n",
      "| 17|  James Williams|Three|  54|  male|\n",
      "| 18|Martin Johnston | Four|  75|  male|\n",
      "| 23|       Sam Adan |Three|  79|  male|\n",
      "| 24|   Nova Prescott|  Two|  78|  male|\n",
      "| 25|  William Taylor| Four|  88|  male|\n",
      "| 26|   Laurin Wilson|Three|  79|  male|\n",
      "| 29|         Ben Day| Four|  55|  male|\n",
      "| 31|      Chris Ball| Four|  88|  male|\n",
      "| 34|   Garry Richard|Three|  69|  male|\n",
      "+---+----------------+-----+----+------+\n",
      "\n"
     ]
    }
   ],
   "source": [
    "df.filter((df.gender == 'male') & (df.mark > 50)).show()"
   ]
  },
  {
   "attachments": {},
   "cell_type": "markdown",
   "metadata": {},
   "source": [
    "10)\tAdd new column\n",
    "- New column name: corrected mark \n",
    "- It has values mark+3"
   ]
  },
  {
   "cell_type": "code",
   "execution_count": 224,
   "metadata": {},
   "outputs": [
    {
     "name": "stdout",
     "output_type": "stream",
     "text": [
      "+---+----------------+-----+----+------+------------+\n",
      "| id|            name|class|mark|gender|correct_mark|\n",
      "+---+----------------+-----+----+------+------------+\n",
      "|  1|    Emily Hardie| Four|  75|female|        78.0|\n",
      "|  2|       John Star|Three|  85|  male|        88.0|\n",
      "|  3|  Arnold Walker |Three|  55|  male|        58.0|\n",
      "|  4|      Reana Talu| Four|  60|female|        63.0|\n",
      "|  5| Sidona Williams| Four|  60|female|        63.0|\n",
      "|  6|       Alex John| Four|  55|  male|        58.0|\n",
      "|  7|    Robert John |Three|  78|  male|        81.0|\n",
      "|  8|       Lee Malva| Four|  85|  male|        88.0|\n",
      "|  9|    Wookie Davey|  Two|  78|  male|        81.0|\n",
      "| 10|      Diane Rose|  Two|  55|female|        58.0|\n",
      "| 11|    Holly Daives|  Two|  89|female|        92.0|\n",
      "| 12|        Eva Cup |Three|  94|female|        97.0|\n",
      "| 13| Victoria Mathew| Four|  88|female|        91.0|\n",
      "| 14|       Iris Zhao|  Two|  88|female|        91.0|\n",
      "| 15|       Scott Row| Four|  88|  male|        91.0|\n",
      "| 16|     Daniel Page| Four|  88|  male|        91.0|\n",
      "| 17|  James Williams|Three|  54|  male|        57.0|\n",
      "| 18|Martin Johnston | Four|  75|  male|        78.0|\n",
      "| 19|     John Smith | Four|  48|  male|        51.0|\n",
      "| 20|       Lenny Lee|Three|  65|female|        68.0|\n",
      "+---+----------------+-----+----+------+------------+\n",
      "only showing top 20 rows\n",
      "\n"
     ]
    }
   ],
   "source": [
    "sparkdf.withColumn('correct_mark',(sparkdf.mark +3)).show()"
   ]
  },
  {
   "cell_type": "code",
   "execution_count": 225,
   "metadata": {},
   "outputs": [
    {
     "name": "stdout",
     "output_type": "stream",
     "text": [
      "+----+----------------+-----+----+------+------------+\n",
      "|  id|            name|class|mark|gender|correct_mark|\n",
      "+----+----------------+-----+----+------+------------+\n",
      "|null|            name|class|null|gender|        null|\n",
      "|   1|    Emily Hardie| Four|  75|female|          78|\n",
      "|   2|       John Star|Three|  85|  male|          88|\n",
      "|   3|  Arnold Walker |Three|  55|  male|          58|\n",
      "|   4|      Reana Talu| Four|  60|female|          63|\n",
      "|   5| Sidona Williams| Four|  60|female|          63|\n",
      "|   6|       Alex John| Four|  55|  male|          58|\n",
      "|   7|    Robert John |Three|  78|  male|          81|\n",
      "|   8|       Lee Malva| Four|  85|  male|          88|\n",
      "|   9|    Wookie Davey|  Two|  78|  male|          81|\n",
      "|  10|      Diane Rose|  Two|  55|female|          58|\n",
      "|  11|    Holly Daives|  Two|  89|female|          92|\n",
      "|  12|        Eva Cup |Three|  94|female|          97|\n",
      "|  13| Victoria Mathew| Four|  88|female|          91|\n",
      "|  14|       Iris Zhao|  Two|  88|female|          91|\n",
      "|  15|       Scott Row| Four|  88|  male|          91|\n",
      "|  16|     Daniel Page| Four|  88|  male|          91|\n",
      "|  17|  James Williams|Three|  54|  male|          57|\n",
      "|  18|Martin Johnston | Four|  75|  male|          78|\n",
      "|  19|     John Smith | Four|  48|  male|          51|\n",
      "+----+----------------+-----+----+------+------------+\n",
      "only showing top 20 rows\n",
      "\n"
     ]
    }
   ],
   "source": [
    "df.withColumn('correct_mark',(df.mark +3)).show()"
   ]
  },
  {
   "attachments": {},
   "cell_type": "markdown",
   "metadata": {},
   "source": [
    "11)\tGroupby gender\n",
    "- Calculate the average mark for each gender \n",
    "- Max \n",
    "- Min \n"
   ]
  },
  {
   "cell_type": "code",
   "execution_count": 226,
   "metadata": {},
   "outputs": [
    {
     "name": "stdout",
     "output_type": "stream",
     "text": [
      "+------+-----------------+\n",
      "|gender|        avg(mark)|\n",
      "+------+-----------------+\n",
      "|female|77.52941176470588|\n",
      "|  male|73.61111111111111|\n",
      "|gender|             null|\n",
      "+------+-----------------+\n",
      "\n"
     ]
    }
   ],
   "source": [
    "df.groupby('gender').avg('mark').show()"
   ]
  },
  {
   "cell_type": "code",
   "execution_count": 227,
   "metadata": {},
   "outputs": [
    {
     "name": "stdout",
     "output_type": "stream",
     "text": [
      "+------+---------+\n",
      "|gender|min(mark)|\n",
      "+------+---------+\n",
      "|female|       55|\n",
      "|  male|       48|\n",
      "|gender|     null|\n",
      "+------+---------+\n",
      "\n"
     ]
    }
   ],
   "source": [
    "df.groupby('gender').min('mark').show()"
   ]
  },
  {
   "cell_type": "code",
   "execution_count": 228,
   "metadata": {},
   "outputs": [
    {
     "name": "stdout",
     "output_type": "stream",
     "text": [
      "+------+---------+\n",
      "|gender|max(mark)|\n",
      "+------+---------+\n",
      "|female|       96|\n",
      "|  male|       88|\n",
      "|gender|     null|\n",
      "+------+---------+\n",
      "\n"
     ]
    }
   ],
   "source": [
    "df.groupby('gender').max('mark').show()"
   ]
  },
  {
   "cell_type": "code",
   "execution_count": 229,
   "metadata": {},
   "outputs": [
    {
     "name": "stdout",
     "output_type": "stream",
     "text": [
      "+------+-----+----+----+\n",
      "|gender|  Avg| Max| Min|\n",
      "+------+-----+----+----+\n",
      "|female|77.53|  96|  55|\n",
      "|  male|73.61|  88|  48|\n",
      "|gender| null|null|null|\n",
      "+------+-----+----+----+\n",
      "\n"
     ]
    }
   ],
   "source": [
    "df.groupBy('gender').agg((round(avg('mark'),2).alias('Avg')),\n",
    "max('mark').alias('Max'),\n",
    "min('mark').alias('Min')).show()"
   ]
  },
  {
   "attachments": {},
   "cell_type": "markdown",
   "metadata": {},
   "source": [
    "12)\t Aggregation:\n",
    "- Calculate the average mark of all students. \n"
   ]
  },
  {
   "cell_type": "code",
   "execution_count": 230,
   "metadata": {},
   "outputs": [
    {
     "name": "stdout",
     "output_type": "stream",
     "text": [
      "+-----------------+\n",
      "|        avg(mark)|\n",
      "+-----------------+\n",
      "|75.51428571428572|\n",
      "+-----------------+\n",
      "\n"
     ]
    }
   ],
   "source": [
    "df.groupby().avg('mark').show()"
   ]
  },
  {
   "attachments": {},
   "cell_type": "markdown",
   "metadata": {},
   "source": [
    "13)\tOrder by \n",
    "- “class”\n",
    "- “mark”\n",
    "- “mark” and descending order.  "
   ]
  },
  {
   "cell_type": "code",
   "execution_count": 231,
   "metadata": {},
   "outputs": [
    {
     "name": "stdout",
     "output_type": "stream",
     "text": [
      "+---+----------------+-----+----+------+\n",
      "| id|            name|class|mark|gender|\n",
      "+---+----------------+-----+----+------+\n",
      "|  5| Sidona Williams| Four|  60|female|\n",
      "| 13| Victoria Mathew| Four|  88|female|\n",
      "| 15|       Scott Row| Four|  88|  male|\n",
      "|  6|       Alex John| Four|  55|  male|\n",
      "|  1|    Emily Hardie| Four|  75|female|\n",
      "| 25|  William Taylor| Four|  88|  male|\n",
      "| 28|  Emily Thompson| Four|  86|female|\n",
      "| 29|         Ben Day| Four|  55|  male|\n",
      "| 31|      Chris Ball| Four|  88|  male|\n",
      "| 32|        Ela Love| Four|  90|female|\n",
      "| 33|   Elisa Richard| Four|  96|female|\n",
      "| 16|     Daniel Page| Four|  88|  male|\n",
      "| 18|Martin Johnston | Four|  75|  male|\n",
      "|  4|      Reana Talu| Four|  60|female|\n",
      "| 19|     John Smith | Four|  48|  male|\n",
      "|  8|       Lee Malva| Four|  85|  male|\n",
      "|  2|       John Star|Three|  85|  male|\n",
      "|  3|  Arnold Walker |Three|  55|  male|\n",
      "|  7|    Robert John |Three|  78|  male|\n",
      "| 12|        Eva Cup |Three|  94|female|\n",
      "+---+----------------+-----+----+------+\n",
      "only showing top 20 rows\n",
      "\n"
     ]
    }
   ],
   "source": [
    "df.orderBy('class').show()"
   ]
  },
  {
   "cell_type": "code",
   "execution_count": 232,
   "metadata": {},
   "outputs": [
    {
     "name": "stdout",
     "output_type": "stream",
     "text": [
      "+----+----------------+-----+----+------+\n",
      "|  id|            name|class|mark|gender|\n",
      "+----+----------------+-----+----+------+\n",
      "|null|            name|class|null|gender|\n",
      "|  19|     John Smith | Four|  48|  male|\n",
      "|  17|  James Williams|Three|  54|  male|\n",
      "|   3|  Arnold Walker |Three|  55|  male|\n",
      "|  10|      Diane Rose|  Two|  55|female|\n",
      "|  22|    Katie Connon|  Two|  55|female|\n",
      "|   6|       Alex John| Four|  55|  male|\n",
      "|  29|         Ben Day| Four|  55|  male|\n",
      "|   4|      Reana Talu| Four|  60|female|\n",
      "|   5| Sidona Williams| Four|  60|female|\n",
      "|  20|       Lenny Lee|Three|  65|female|\n",
      "|  21|    Ava Williams|  Two|  69|female|\n",
      "|  34|   Garry Richard|Three|  69|  male|\n",
      "|  18|Martin Johnston | Four|  75|  male|\n",
      "|   1|    Emily Hardie| Four|  75|female|\n",
      "|   9|    Wookie Davey|  Two|  78|  male|\n",
      "|  24|   Nova Prescott|  Two|  78|  male|\n",
      "|   7|    Robert John |Three|  78|  male|\n",
      "|  23|       Sam Adan |Three|  79|  male|\n",
      "|  26|   Laurin Wilson|Three|  79|  male|\n",
      "+----+----------------+-----+----+------+\n",
      "only showing top 20 rows\n",
      "\n"
     ]
    }
   ],
   "source": [
    "df.orderBy('mark').show()"
   ]
  },
  {
   "cell_type": "code",
   "execution_count": 233,
   "metadata": {},
   "outputs": [
    {
     "name": "stdout",
     "output_type": "stream",
     "text": [
      "+---+---------------+-----+----+------+\n",
      "| id|           name|class|mark|gender|\n",
      "+---+---------------+-----+----+------+\n",
      "| 33|  Elisa Richard| Four|  96|female|\n",
      "| 12|       Eva Cup |Three|  94|female|\n",
      "| 32|       Ela Love| Four|  90|female|\n",
      "| 11|   Holly Daives|  Two|  89|female|\n",
      "| 13|Victoria Mathew| Four|  88|female|\n",
      "| 16|    Daniel Page| Four|  88|  male|\n",
      "| 35|     Ria Wright|  Two|  88|female|\n",
      "| 14|      Iris Zhao|  Two|  88|female|\n",
      "| 15|      Scott Row| Four|  88|  male|\n",
      "| 25| William Taylor| Four|  88|  male|\n",
      "| 31|     Chris Ball| Four|  88|  male|\n",
      "| 28| Emily Thompson| Four|  86|female|\n",
      "|  2|      John Star|Three|  85|  male|\n",
      "|  8|      Lee Malva| Four|  85|  male|\n",
      "| 27|Fatemah Abraham|Three|  81|female|\n",
      "| 26|  Laurin Wilson|Three|  79|  male|\n",
      "| 30|    Rabiya Khan|Three|  79|female|\n",
      "| 23|      Sam Adan |Three|  79|  male|\n",
      "|  7|   Robert John |Three|  78|  male|\n",
      "|  9|   Wookie Davey|  Two|  78|  male|\n",
      "+---+---------------+-----+----+------+\n",
      "only showing top 20 rows\n",
      "\n"
     ]
    }
   ],
   "source": [
    "# descending MARK 1st method\n",
    "df.orderBy(desc('mark')).show()"
   ]
  },
  {
   "cell_type": "code",
   "execution_count": 234,
   "metadata": {},
   "outputs": [
    {
     "name": "stdout",
     "output_type": "stream",
     "text": [
      "+---+---------------+-----+----+------+\n",
      "| id|           name|class|mark|gender|\n",
      "+---+---------------+-----+----+------+\n",
      "| 33|  Elisa Richard| Four|  96|female|\n",
      "| 12|       Eva Cup |Three|  94|female|\n",
      "| 32|       Ela Love| Four|  90|female|\n",
      "| 11|   Holly Daives|  Two|  89|female|\n",
      "| 13|Victoria Mathew| Four|  88|female|\n",
      "| 16|    Daniel Page| Four|  88|  male|\n",
      "| 35|     Ria Wright|  Two|  88|female|\n",
      "| 14|      Iris Zhao|  Two|  88|female|\n",
      "| 15|      Scott Row| Four|  88|  male|\n",
      "| 25| William Taylor| Four|  88|  male|\n",
      "| 31|     Chris Ball| Four|  88|  male|\n",
      "| 28| Emily Thompson| Four|  86|female|\n",
      "|  2|      John Star|Three|  85|  male|\n",
      "|  8|      Lee Malva| Four|  85|  male|\n",
      "| 27|Fatemah Abraham|Three|  81|female|\n",
      "| 26|  Laurin Wilson|Three|  79|  male|\n",
      "| 30|    Rabiya Khan|Three|  79|female|\n",
      "| 23|      Sam Adan |Three|  79|  male|\n",
      "|  7|   Robert John |Three|  78|  male|\n",
      "|  9|   Wookie Davey|  Two|  78|  male|\n",
      "+---+---------------+-----+----+------+\n",
      "only showing top 20 rows\n",
      "\n"
     ]
    }
   ],
   "source": [
    "# descending MARK 2nd method\n",
    "df.orderBy('mark', ascending=False).show()"
   ]
  },
  {
   "attachments": {},
   "cell_type": "markdown",
   "metadata": {},
   "source": [
    "14)\tAccess to specific row( hint: collect() method)  and then convert it to dictionary. "
   ]
  },
  {
   "cell_type": "code",
   "execution_count": 235,
   "metadata": {},
   "outputs": [
    {
     "data": {
      "text/plain": [
       "[Row(id='1', name='Emily Hardie', class='Four', mark='75', gender='female'),\n",
       " Row(id='2', name='John Star', class='Three', mark='85', gender='male'),\n",
       " Row(id='3', name='Arnold Walker ', class='Three', mark='55', gender='male'),\n",
       " Row(id='4', name='Reana Talu', class='Four', mark='60', gender='female'),\n",
       " Row(id='5', name='Sidona Williams', class='Four', mark='60', gender='female'),\n",
       " Row(id='6', name='Alex John', class='Four', mark='55', gender='male'),\n",
       " Row(id='7', name='Robert John ', class='Three', mark='78', gender='male'),\n",
       " Row(id='8', name='Lee Malva', class='Four', mark='85', gender='male'),\n",
       " Row(id='9', name='Wookie Davey', class='Two', mark='78', gender='male'),\n",
       " Row(id='10', name='Diane Rose', class='Two', mark='55', gender='female'),\n",
       " Row(id='11', name='Holly Daives', class='Two', mark='89', gender='female'),\n",
       " Row(id='12', name='Eva Cup ', class='Three', mark='94', gender='female'),\n",
       " Row(id='13', name='Victoria Mathew', class='Four', mark='88', gender='female'),\n",
       " Row(id='14', name='Iris Zhao', class='Two', mark='88', gender='female'),\n",
       " Row(id='15', name='Scott Row', class='Four', mark='88', gender='male'),\n",
       " Row(id='16', name='Daniel Page', class='Four', mark='88', gender='male'),\n",
       " Row(id='17', name='James Williams', class='Three', mark='54', gender='male'),\n",
       " Row(id='18', name='Martin Johnston ', class='Four', mark='75', gender='male'),\n",
       " Row(id='19', name='John Smith ', class='Four', mark='48', gender='male'),\n",
       " Row(id='20', name='Lenny Lee', class='Three', mark='65', gender='female'),\n",
       " Row(id='21', name='Ava Williams', class='Two', mark='69', gender='female'),\n",
       " Row(id='22', name='Katie Connon', class='Two', mark='55', gender='female'),\n",
       " Row(id='23', name='Sam Adan ', class='Three', mark='79', gender='male'),\n",
       " Row(id='24', name='Nova Prescott', class='Two', mark='78', gender='male'),\n",
       " Row(id='25', name='William Taylor', class='Four', mark='88', gender='male'),\n",
       " Row(id='26', name='Laurin Wilson', class='Three', mark='79', gender='male'),\n",
       " Row(id='27', name='Fatemah Abraham', class='Three', mark='81', gender='female'),\n",
       " Row(id='28', name='Emily Thompson', class='Four', mark='86', gender='female'),\n",
       " Row(id='29', name='Ben Day', class='Four', mark='55', gender='male'),\n",
       " Row(id='30', name='Rabiya Khan', class='Three', mark='79', gender='female'),\n",
       " Row(id='31', name='Chris Ball', class='Four', mark='88', gender='male'),\n",
       " Row(id='32', name='Ela Love', class='Four', mark='90', gender='female'),\n",
       " Row(id='33', name='Elisa Richard', class='Four', mark='96', gender='female'),\n",
       " Row(id='34', name='Garry Richard', class='Three', mark='69', gender='male'),\n",
       " Row(id='35', name='Ria Wright', class='Two', mark='88', gender='female')]"
      ]
     },
     "execution_count": 235,
     "metadata": {},
     "output_type": "execute_result"
    }
   ],
   "source": [
    "sparkdf.collect()"
   ]
  },
  {
   "cell_type": "code",
   "execution_count": 236,
   "metadata": {},
   "outputs": [
    {
     "data": {
      "text/plain": [
       "{'id': '1',\n",
       " 'name': 'Emily Hardie',\n",
       " 'class': 'Four',\n",
       " 'mark': '75',\n",
       " 'gender': 'female'}"
      ]
     },
     "metadata": {},
     "output_type": "display_data"
    },
    {
     "data": {
      "text/plain": [
       "{'id': '2',\n",
       " 'name': 'John Star',\n",
       " 'class': 'Three',\n",
       " 'mark': '85',\n",
       " 'gender': 'male'}"
      ]
     },
     "metadata": {},
     "output_type": "display_data"
    },
    {
     "data": {
      "text/plain": [
       "{'id': '3',\n",
       " 'name': 'Arnold Walker ',\n",
       " 'class': 'Three',\n",
       " 'mark': '55',\n",
       " 'gender': 'male'}"
      ]
     },
     "metadata": {},
     "output_type": "display_data"
    },
    {
     "data": {
      "text/plain": [
       "{'id': '4',\n",
       " 'name': 'Reana Talu',\n",
       " 'class': 'Four',\n",
       " 'mark': '60',\n",
       " 'gender': 'female'}"
      ]
     },
     "metadata": {},
     "output_type": "display_data"
    },
    {
     "data": {
      "text/plain": [
       "{'id': '5',\n",
       " 'name': 'Sidona Williams',\n",
       " 'class': 'Four',\n",
       " 'mark': '60',\n",
       " 'gender': 'female'}"
      ]
     },
     "metadata": {},
     "output_type": "display_data"
    },
    {
     "data": {
      "text/plain": [
       "{'id': '6',\n",
       " 'name': 'Alex John',\n",
       " 'class': 'Four',\n",
       " 'mark': '55',\n",
       " 'gender': 'male'}"
      ]
     },
     "metadata": {},
     "output_type": "display_data"
    },
    {
     "data": {
      "text/plain": [
       "{'id': '7',\n",
       " 'name': 'Robert John ',\n",
       " 'class': 'Three',\n",
       " 'mark': '78',\n",
       " 'gender': 'male'}"
      ]
     },
     "metadata": {},
     "output_type": "display_data"
    },
    {
     "data": {
      "text/plain": [
       "{'id': '8',\n",
       " 'name': 'Lee Malva',\n",
       " 'class': 'Four',\n",
       " 'mark': '85',\n",
       " 'gender': 'male'}"
      ]
     },
     "metadata": {},
     "output_type": "display_data"
    },
    {
     "data": {
      "text/plain": [
       "{'id': '9',\n",
       " 'name': 'Wookie Davey',\n",
       " 'class': 'Two',\n",
       " 'mark': '78',\n",
       " 'gender': 'male'}"
      ]
     },
     "metadata": {},
     "output_type": "display_data"
    },
    {
     "data": {
      "text/plain": [
       "{'id': '10',\n",
       " 'name': 'Diane Rose',\n",
       " 'class': 'Two',\n",
       " 'mark': '55',\n",
       " 'gender': 'female'}"
      ]
     },
     "metadata": {},
     "output_type": "display_data"
    },
    {
     "data": {
      "text/plain": [
       "{'id': '11',\n",
       " 'name': 'Holly Daives',\n",
       " 'class': 'Two',\n",
       " 'mark': '89',\n",
       " 'gender': 'female'}"
      ]
     },
     "metadata": {},
     "output_type": "display_data"
    },
    {
     "data": {
      "text/plain": [
       "{'id': '12',\n",
       " 'name': 'Eva Cup ',\n",
       " 'class': 'Three',\n",
       " 'mark': '94',\n",
       " 'gender': 'female'}"
      ]
     },
     "metadata": {},
     "output_type": "display_data"
    },
    {
     "data": {
      "text/plain": [
       "{'id': '13',\n",
       " 'name': 'Victoria Mathew',\n",
       " 'class': 'Four',\n",
       " 'mark': '88',\n",
       " 'gender': 'female'}"
      ]
     },
     "metadata": {},
     "output_type": "display_data"
    },
    {
     "data": {
      "text/plain": [
       "{'id': '14',\n",
       " 'name': 'Iris Zhao',\n",
       " 'class': 'Two',\n",
       " 'mark': '88',\n",
       " 'gender': 'female'}"
      ]
     },
     "metadata": {},
     "output_type": "display_data"
    },
    {
     "data": {
      "text/plain": [
       "{'id': '15',\n",
       " 'name': 'Scott Row',\n",
       " 'class': 'Four',\n",
       " 'mark': '88',\n",
       " 'gender': 'male'}"
      ]
     },
     "metadata": {},
     "output_type": "display_data"
    },
    {
     "data": {
      "text/plain": [
       "{'id': '16',\n",
       " 'name': 'Daniel Page',\n",
       " 'class': 'Four',\n",
       " 'mark': '88',\n",
       " 'gender': 'male'}"
      ]
     },
     "metadata": {},
     "output_type": "display_data"
    },
    {
     "data": {
      "text/plain": [
       "{'id': '17',\n",
       " 'name': 'James Williams',\n",
       " 'class': 'Three',\n",
       " 'mark': '54',\n",
       " 'gender': 'male'}"
      ]
     },
     "metadata": {},
     "output_type": "display_data"
    },
    {
     "data": {
      "text/plain": [
       "{'id': '18',\n",
       " 'name': 'Martin Johnston ',\n",
       " 'class': 'Four',\n",
       " 'mark': '75',\n",
       " 'gender': 'male'}"
      ]
     },
     "metadata": {},
     "output_type": "display_data"
    },
    {
     "data": {
      "text/plain": [
       "{'id': '19',\n",
       " 'name': 'John Smith ',\n",
       " 'class': 'Four',\n",
       " 'mark': '48',\n",
       " 'gender': 'male'}"
      ]
     },
     "metadata": {},
     "output_type": "display_data"
    },
    {
     "data": {
      "text/plain": [
       "{'id': '20',\n",
       " 'name': 'Lenny Lee',\n",
       " 'class': 'Three',\n",
       " 'mark': '65',\n",
       " 'gender': 'female'}"
      ]
     },
     "metadata": {},
     "output_type": "display_data"
    },
    {
     "data": {
      "text/plain": [
       "{'id': '21',\n",
       " 'name': 'Ava Williams',\n",
       " 'class': 'Two',\n",
       " 'mark': '69',\n",
       " 'gender': 'female'}"
      ]
     },
     "metadata": {},
     "output_type": "display_data"
    },
    {
     "data": {
      "text/plain": [
       "{'id': '22',\n",
       " 'name': 'Katie Connon',\n",
       " 'class': 'Two',\n",
       " 'mark': '55',\n",
       " 'gender': 'female'}"
      ]
     },
     "metadata": {},
     "output_type": "display_data"
    },
    {
     "data": {
      "text/plain": [
       "{'id': '23',\n",
       " 'name': 'Sam Adan ',\n",
       " 'class': 'Three',\n",
       " 'mark': '79',\n",
       " 'gender': 'male'}"
      ]
     },
     "metadata": {},
     "output_type": "display_data"
    },
    {
     "data": {
      "text/plain": [
       "{'id': '24',\n",
       " 'name': 'Nova Prescott',\n",
       " 'class': 'Two',\n",
       " 'mark': '78',\n",
       " 'gender': 'male'}"
      ]
     },
     "metadata": {},
     "output_type": "display_data"
    },
    {
     "data": {
      "text/plain": [
       "{'id': '25',\n",
       " 'name': 'William Taylor',\n",
       " 'class': 'Four',\n",
       " 'mark': '88',\n",
       " 'gender': 'male'}"
      ]
     },
     "metadata": {},
     "output_type": "display_data"
    },
    {
     "data": {
      "text/plain": [
       "{'id': '26',\n",
       " 'name': 'Laurin Wilson',\n",
       " 'class': 'Three',\n",
       " 'mark': '79',\n",
       " 'gender': 'male'}"
      ]
     },
     "metadata": {},
     "output_type": "display_data"
    },
    {
     "data": {
      "text/plain": [
       "{'id': '27',\n",
       " 'name': 'Fatemah Abraham',\n",
       " 'class': 'Three',\n",
       " 'mark': '81',\n",
       " 'gender': 'female'}"
      ]
     },
     "metadata": {},
     "output_type": "display_data"
    },
    {
     "data": {
      "text/plain": [
       "{'id': '28',\n",
       " 'name': 'Emily Thompson',\n",
       " 'class': 'Four',\n",
       " 'mark': '86',\n",
       " 'gender': 'female'}"
      ]
     },
     "metadata": {},
     "output_type": "display_data"
    },
    {
     "data": {
      "text/plain": [
       "{'id': '29',\n",
       " 'name': 'Ben Day',\n",
       " 'class': 'Four',\n",
       " 'mark': '55',\n",
       " 'gender': 'male'}"
      ]
     },
     "metadata": {},
     "output_type": "display_data"
    },
    {
     "data": {
      "text/plain": [
       "{'id': '30',\n",
       " 'name': 'Rabiya Khan',\n",
       " 'class': 'Three',\n",
       " 'mark': '79',\n",
       " 'gender': 'female'}"
      ]
     },
     "metadata": {},
     "output_type": "display_data"
    },
    {
     "data": {
      "text/plain": [
       "{'id': '31',\n",
       " 'name': 'Chris Ball',\n",
       " 'class': 'Four',\n",
       " 'mark': '88',\n",
       " 'gender': 'male'}"
      ]
     },
     "metadata": {},
     "output_type": "display_data"
    },
    {
     "data": {
      "text/plain": [
       "{'id': '32',\n",
       " 'name': 'Ela Love',\n",
       " 'class': 'Four',\n",
       " 'mark': '90',\n",
       " 'gender': 'female'}"
      ]
     },
     "metadata": {},
     "output_type": "display_data"
    },
    {
     "data": {
      "text/plain": [
       "{'id': '33',\n",
       " 'name': 'Elisa Richard',\n",
       " 'class': 'Four',\n",
       " 'mark': '96',\n",
       " 'gender': 'female'}"
      ]
     },
     "metadata": {},
     "output_type": "display_data"
    },
    {
     "data": {
      "text/plain": [
       "{'id': '34',\n",
       " 'name': 'Garry Richard',\n",
       " 'class': 'Three',\n",
       " 'mark': '69',\n",
       " 'gender': 'male'}"
      ]
     },
     "metadata": {},
     "output_type": "display_data"
    },
    {
     "data": {
      "text/plain": [
       "{'id': '35',\n",
       " 'name': 'Ria Wright',\n",
       " 'class': 'Two',\n",
       " 'mark': '88',\n",
       " 'gender': 'female'}"
      ]
     },
     "metadata": {},
     "output_type": "display_data"
    }
   ],
   "source": [
    "# The use of display(), show does not work\n",
    "rows = sparkdf.collect()\n",
    "for row in rows:\n",
    "    display(row.asDict())"
   ]
  },
  {
   "cell_type": "code",
   "execution_count": 237,
   "metadata": {},
   "outputs": [
    {
     "data": {
      "text/plain": [
       "{'id': 12,\n",
       " 'name': 'Eva Cup ',\n",
       " 'class': 'Three',\n",
       " 'mark': 94,\n",
       " 'gender': 'female'}"
      ]
     },
     "metadata": {},
     "output_type": "display_data"
    },
    {
     "data": {
      "text/plain": [
       "{'id': 33,\n",
       " 'name': 'Elisa Richard',\n",
       " 'class': 'Four',\n",
       " 'mark': 96,\n",
       " 'gender': 'female'}"
      ]
     },
     "metadata": {},
     "output_type": "display_data"
    }
   ],
   "source": [
    "# Filtering and converting into a dict\n",
    "rows = df.filter(df.mark >90).collect()\n",
    "for row in rows:\n",
    "    display(row.asDict())"
   ]
  },
  {
   "attachments": {},
   "cell_type": "markdown",
   "metadata": {},
   "source": [
    "15. Create a view from dataframe and filter it using SQL syntax"
   ]
  },
  {
   "cell_type": "code",
   "execution_count": 238,
   "metadata": {},
   "outputs": [
    {
     "name": "stdout",
     "output_type": "stream",
     "text": [
      "+---+---------------+-----+----+------+\n",
      "| id|           name|class|mark|gender|\n",
      "+---+---------------+-----+----+------+\n",
      "|  1|   Emily Hardie| Four|  75|female|\n",
      "|  4|     Reana Talu| Four|  60|female|\n",
      "|  5|Sidona Williams| Four|  60|female|\n",
      "| 10|     Diane Rose|  Two|  55|female|\n",
      "| 11|   Holly Daives|  Two|  89|female|\n",
      "| 12|       Eva Cup |Three|  94|female|\n",
      "| 13|Victoria Mathew| Four|  88|female|\n",
      "| 14|      Iris Zhao|  Two|  88|female|\n",
      "| 20|      Lenny Lee|Three|  65|female|\n",
      "| 21|   Ava Williams|  Two|  69|female|\n",
      "| 22|   Katie Connon|  Two|  55|female|\n",
      "| 27|Fatemah Abraham|Three|  81|female|\n",
      "| 28| Emily Thompson| Four|  86|female|\n",
      "| 30|    Rabiya Khan|Three|  79|female|\n",
      "| 32|       Ela Love| Four|  90|female|\n",
      "| 33|  Elisa Richard| Four|  96|female|\n",
      "| 35|     Ria Wright|  Two|  88|female|\n",
      "+---+---------------+-----+----+------+\n",
      "\n"
     ]
    }
   ],
   "source": [
    "# Create a temporary view of the DataFrame\n",
    "sparkdf.createOrReplaceTempView(\"students\")\n",
    "\n",
    "# Filter the temporary view using SQL syntax\n",
    "filtered_df = spark.sql(\"SELECT * FROM students WHERE gender = 'female' AND mark > 50\")\n",
    "\n",
    "# Show the filtered DataFrame\n",
    "filtered_df.show()"
   ]
  },
  {
   "cell_type": "code",
   "execution_count": 239,
   "metadata": {},
   "outputs": [
    {
     "name": "stdout",
     "output_type": "stream",
     "text": [
      "+---------------+----+\n",
      "|           name|mark|\n",
      "+---------------+----+\n",
      "|   Emily Hardie|  75|\n",
      "|     Reana Talu|  60|\n",
      "|Sidona Williams|  60|\n",
      "|     Diane Rose|  55|\n",
      "|   Holly Daives|  89|\n",
      "|       Eva Cup |  94|\n",
      "|Victoria Mathew|  88|\n",
      "|      Iris Zhao|  88|\n",
      "|      Lenny Lee|  65|\n",
      "|   Ava Williams|  69|\n",
      "|   Katie Connon|  55|\n",
      "|Fatemah Abraham|  81|\n",
      "| Emily Thompson|  86|\n",
      "|    Rabiya Khan|  79|\n",
      "|       Ela Love|  90|\n",
      "|  Elisa Richard|  96|\n",
      "|     Ria Wright|  88|\n",
      "+---------------+----+\n",
      "\n"
     ]
    }
   ],
   "source": [
    "# select name and mark coloumn\n",
    "spark.sql(\"SELECT name, mark FROM students WHERE gender = 'female' AND mark > 50\").show()\n"
   ]
  }
 ],
 "metadata": {
  "kernelspec": {
   "display_name": "Python 3",
   "language": "python",
   "name": "python3"
  },
  "language_info": {
   "codemirror_mode": {
    "name": "ipython",
    "version": 3
   },
   "file_extension": ".py",
   "mimetype": "text/x-python",
   "name": "python",
   "nbconvert_exporter": "python",
   "pygments_lexer": "ipython3",
   "version": "3.11.1"
  },
  "orig_nbformat": 4,
  "vscode": {
   "interpreter": {
    "hash": "acd2ce6c7faff7b1a0bc37552e4fafa8b9624856f11cac0dc7e108d2381226fd"
   }
  }
 },
 "nbformat": 4,
 "nbformat_minor": 2
}
