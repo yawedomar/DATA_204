{
 "cells": [
  {
   "cell_type": "code",
   "execution_count": 26,
   "metadata": {},
   "outputs": [
    {
     "name": "stdout",
     "output_type": "stream",
     "text": [
      "121517"
     ]
    }
   ],
   "source": [
    "# 1. Given an array of integers, convert them to a single int made up of the digits\n",
    "lst = [12,15,17]\n",
    "for i in lst:\n",
    "    print(i, end=\"\")"
   ]
  },
  {
   "cell_type": "code",
   "execution_count": 27,
   "metadata": {},
   "outputs": [
    {
     "name": "stdout",
     "output_type": "stream",
     "text": [
      "HLL T WS NC T KNW Y\n"
     ]
    }
   ],
   "source": [
    "# 2. Take a string and return it with all the vowels removed in uppercase\n",
    "text = \"Hello it was nice to know you\"\n",
    "vowel = ['a', 'e', 'i', 'o', 'u']\n",
    "for char in text:\n",
    "    if char in vowel:\n",
    "        text = text.replace(char, \"\")\n",
    "print(text.upper())"
   ]
  },
  {
   "cell_type": "code",
   "execution_count": 28,
   "metadata": {},
   "outputs": [
    {
     "name": "stdout",
     "output_type": "stream",
     "text": [
      "[9]\n"
     ]
    }
   ],
   "source": [
    "# 4. For an array of ints find the missing number in the array. The array might not be in order\n",
    "arr = [7,8,2,1,3,5,4,10]\n",
    "missing = []\n",
    "for i in range (arr[0], arr[-1]+1):\n",
    "    if i not in arr:\n",
    "        missing.append(i)\n",
    "print(missing) "
   ]
  },
  {
   "cell_type": "code",
   "execution_count": 44,
   "metadata": {},
   "outputs": [
    {
     "name": "stdout",
     "output_type": "stream",
     "text": [
      "1 4\n",
      "5\n"
     ]
    }
   ],
   "source": [
    "# 5. For an int array, find a pair of numbers who's sum is closest to zero\n",
    "list=[11,4,1,9,5]\n",
    "first = list[0] \n",
    "second = list[1] \n",
    "\n",
    "for i in range(1, len(list)): \n",
    "\n",
    "    if list[i] < first or list[i] < second: \n",
    "        first = list[i] \n",
    "\n",
    "print(first,second)\n",
    "print(first+second)\n"
   ]
  },
  {
   "cell_type": "code",
   "execution_count": 48,
   "metadata": {},
   "outputs": [
    {
     "name": "stdout",
     "output_type": "stream",
     "text": [
      "5\n",
      "(1, 4)\n"
     ]
    }
   ],
   "source": [
    "# 5. For an int array, find a pair of numbers who's sum is closest to zero\n",
    "\n",
    "def sum_pair(list):\n",
    "    first = list[0] \n",
    "    second = list[1]\n",
    "    for i in range(1, len(list)): \n",
    "        if list[i] < first or list[i] < second: \n",
    "            first = list[i] \n",
    "    print(first +second)\n",
    "    return first,second\n",
    "\n",
    "print(sum_pair([11,4,1,9,5]))"
   ]
  },
  {
   "cell_type": "code",
   "execution_count": 37,
   "metadata": {},
   "outputs": [
    {
     "ename": "TypeError",
     "evalue": "'list' object is not callable",
     "output_type": "error",
     "traceback": [
      "\u001b[1;31m---------------------------------------------------------------------------\u001b[0m",
      "\u001b[1;31mTypeError\u001b[0m                                 Traceback (most recent call last)",
      "Cell \u001b[1;32mIn[37], line 11\u001b[0m\n\u001b[0;32m      9\u001b[0m             letters[letter] \u001b[39m=\u001b[39m \u001b[39m1\u001b[39m\n\u001b[0;32m     10\u001b[0m     \u001b[39mreturn\u001b[39;00m \u001b[39mlist\u001b[39m(\u001b[39mset\u001b[39m(duplicates))\n\u001b[1;32m---> 11\u001b[0m \u001b[39mprint\u001b[39m(get_duplicate_letters(\u001b[39m\"\u001b[39;49m\u001b[39mhelloooo\u001b[39;49m\u001b[39m\"\u001b[39;49m))\n",
      "Cell \u001b[1;32mIn[37], line 10\u001b[0m, in \u001b[0;36mget_duplicate_letters\u001b[1;34m(string)\u001b[0m\n\u001b[0;32m      8\u001b[0m     \u001b[39melse\u001b[39;00m:\n\u001b[0;32m      9\u001b[0m         letters[letter] \u001b[39m=\u001b[39m \u001b[39m1\u001b[39m\n\u001b[1;32m---> 10\u001b[0m \u001b[39mreturn\u001b[39;00m \u001b[39mlist\u001b[39;49m(\u001b[39mset\u001b[39;49m(duplicates))\n",
      "\u001b[1;31mTypeError\u001b[0m: 'list' object is not callable"
     ]
    }
   ],
   "source": [
    "# 7. For a String, create an array of all the duplicate letters\n",
    "def get_duplicate_letters(string):\n",
    "    letters = {}\n",
    "    duplicates = []\n",
    "    for letter in string:\n",
    "        if letter in letters:\n",
    "            letters[letter] += 1\n",
    "            duplicates.append(letter)\n",
    "        else:\n",
    "            letters[letter] = 1\n",
    "    return list(set(duplicates))\n",
    "print(get_duplicate_letters(\"helloooo\"))"
   ]
  },
  {
   "cell_type": "code",
   "execution_count": 38,
   "metadata": {},
   "outputs": [
    {
     "name": "stdout",
     "output_type": "stream",
     "text": [
      "45\n"
     ]
    }
   ],
   "source": [
    "# 8. Find the second highest number in an array\n",
    "list = [10,20,4,45,99]\n",
    "new_list = set(list)\n",
    "new_list.remove(max(new_list))\n",
    "print(max(new_list))\n"
   ]
  },
  {
   "cell_type": "code",
   "execution_count": 43,
   "metadata": {},
   "outputs": [
    {
     "name": "stdout",
     "output_type": "stream",
     "text": [
      "(['a', 'i', 'a'], ['Y', 's', 'm', 'n'])\n"
     ]
    }
   ],
   "source": [
    "# 9. Create a 2 value array which counts all the consonants and vowels in a string\n",
    "v = []\n",
    "c = []\n",
    "vowel = ['a', 'e', 'i', 'o', 'u']\n",
    "\n",
    "def find_vowel(word):\n",
    "\n",
    "    for i in word:\n",
    "        if i.lower() in vowel:\n",
    "            v.append(i)\n",
    "        if i.lower() not in vowel:\n",
    "            c.append(i)\n",
    "    return v, c\n",
    "\n",
    "print(find_vowel(\"Yasmina\"))"
   ]
  },
  {
   "cell_type": "code",
   "execution_count": 49,
   "metadata": {},
   "outputs": [
    {
     "name": "stdout",
     "output_type": "stream",
     "text": [
      "(3, 4)\n"
     ]
    }
   ],
   "source": [
    "# 9. Create a 2 value array which counts all the consonants and vowels in a string\n",
    "v = []\n",
    "c = []\n",
    "vowel = ['a', 'e', 'i', 'o', 'u']\n",
    "\n",
    "def find_vowel(word):\n",
    "\n",
    "    for i in word:\n",
    "        if i.lower() in vowel:\n",
    "            v.append(i)\n",
    "        if i.lower() not in vowel:\n",
    "            c.append(i)\n",
    "    return len(v),len(c)\n",
    "\n",
    "print(find_vowel(\"Yasmina\"))\n"
   ]
  },
  {
   "cell_type": "code",
   "execution_count": 42,
   "metadata": {},
   "outputs": [
    {
     "name": "stdout",
     "output_type": "stream",
     "text": [
      "['a', 's', 'm', 'i', 'n']\n"
     ]
    }
   ],
   "source": [
    "# 10. For any two strings, check if they contain the same letters\n",
    "common=[]\n",
    "def common_letter(letter1,letter2):\n",
    "    for i in letter1:\n",
    "        if  (i in letter2) and not (i in common):\n",
    "            common.append(i)\n",
    "    return common \n",
    "print(common_letter(\"Yasmina\",\"Tasnim\"))"
   ]
  },
  {
   "cell_type": "code",
   "execution_count": 50,
   "metadata": {},
   "outputs": [
    {
     "name": "stdout",
     "output_type": "stream",
     "text": [
      "5\n"
     ]
    }
   ],
   "source": [
    "# 10. For any two strings, how many letters are the same\n",
    "common=[]\n",
    "def common_letter(letter1,letter2):\n",
    "    for i in letter1:\n",
    "        if  (i in letter2) and not (i in common):\n",
    "            common.append(i)\n",
    "    return len(common) \n",
    "print(common_letter(\"Yasmina\",\"Tasnim\"))"
   ]
  },
  {
   "cell_type": "code",
   "execution_count": 36,
   "metadata": {},
   "outputs": [
    {
     "name": "stdout",
     "output_type": "stream",
     "text": [
      "[4, 15, 12]\n"
     ]
    }
   ],
   "source": [
    "# 11. For an int array, return the intervals between each of the ints\n",
    "numbers = [1, 5, 20, 32]\n",
    "\n",
    "def intervals(numbers):\n",
    "    intervals = []\n",
    "    \n",
    "    for i in range(len(numbers) - 1):\n",
    "        intervals.append(numbers[i+1] - numbers[i])\n",
    "    return intervals\n",
    "    \n",
    "print(intervals(numbers))"
   ]
  },
  {
   "cell_type": "code",
   "execution_count": 55,
   "metadata": {},
   "outputs": [],
   "source": [
    "def odd_even_counter(number):\n",
    "    num_list = [[],[]]\n",
    "\n",
    "    for num in range(1, number+1):\n",
    "        if num % 2 ==0:\n",
    "            num_list[0].append(num)\n",
    "        else:\n",
    "            num_list[1].append(num)\n",
    "\n",
    "    return sum(num_list[0]), sum(num_list[1])\n"
   ]
  }
 ],
 "metadata": {
  "kernelspec": {
   "display_name": "Python 3",
   "language": "python",
   "name": "python3"
  },
  "language_info": {
   "codemirror_mode": {
    "name": "ipython",
    "version": 3
   },
   "file_extension": ".py",
   "mimetype": "text/x-python",
   "name": "python",
   "nbconvert_exporter": "python",
   "pygments_lexer": "ipython3",
   "version": "3.11.1 (tags/v3.11.1:a7a450f, Dec  6 2022, 19:58:39) [MSC v.1934 64 bit (AMD64)]"
  },
  "orig_nbformat": 4,
  "vscode": {
   "interpreter": {
    "hash": "acd2ce6c7faff7b1a0bc37552e4fafa8b9624856f11cac0dc7e108d2381226fd"
   }
  }
 },
 "nbformat": 4,
 "nbformat_minor": 2
}
