{
 "cells": [
  {
   "cell_type": "code",
   "execution_count": null,
   "metadata": {},
   "outputs": [],
   "source": []
  }
 ],
 "metadata": {
  "kernelspec": {
   "display_name": "Python 3",
   "language": "python",
   "name": "python3"
  },
  "language_info": {
   "name": "python",
   "version": "3.11.1"
  },
  "orig_nbformat": 4,
  "vscode": {
   "interpreter": {
    "hash": "acd2ce6c7faff7b1a0bc37552e4fafa8b9624856f11cac0dc7e108d2381226fd"
   }
  }
 },
 "nbformat": 4,
 "nbformat_minor": 2
}
