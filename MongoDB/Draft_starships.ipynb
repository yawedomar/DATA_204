{
 "cells": [
  {
   "cell_type": "code",
   "execution_count": 1,
   "metadata": {},
   "outputs": [],
   "source": [
    "# Importing packages\n",
    "import pymongo\n",
    "import json \n",
    "import requests"
   ]
  },
  {
   "cell_type": "code",
   "execution_count": 2,
   "metadata": {},
   "outputs": [
    {
     "name": "stdout",
     "output_type": "stream",
     "text": [
      "Database(MongoClient(host=['localhost:27017'], document_class=dict, tz_aware=False, connect=True), 'starships')\n"
     ]
    }
   ],
   "source": [
    "# Creating the Starships collection\n",
    "client = pymongo.MongoClient()\n",
    "db = client['starships']\n",
    "print(db)"
   ]
  },
  {
   "cell_type": "code",
   "execution_count": 3,
   "metadata": {},
   "outputs": [
    {
     "data": {
      "text/plain": [
       "{'count': 36,\n",
       " 'next': 'https://swapi.dev/api/starships/?page=2',\n",
       " 'previous': None,\n",
       " 'results': [{'name': 'CR90 corvette',\n",
       "   'model': 'CR90 corvette',\n",
       "   'manufacturer': 'Corellian Engineering Corporation',\n",
       "   'cost_in_credits': '3500000',\n",
       "   'length': '150',\n",
       "   'max_atmosphering_speed': '950',\n",
       "   'crew': '30-165',\n",
       "   'passengers': '600',\n",
       "   'cargo_capacity': '3000000',\n",
       "   'consumables': '1 year',\n",
       "   'hyperdrive_rating': '2.0',\n",
       "   'MGLT': '60',\n",
       "   'starship_class': 'corvette',\n",
       "   'pilots': [],\n",
       "   'films': ['https://swapi.dev/api/films/1/',\n",
       "    'https://swapi.dev/api/films/3/',\n",
       "    'https://swapi.dev/api/films/6/'],\n",
       "   'created': '2014-12-10T14:20:33.369000Z',\n",
       "   'edited': '2014-12-20T21:23:49.867000Z',\n",
       "   'url': 'https://swapi.dev/api/starships/2/'},\n",
       "  {'name': 'Star Destroyer',\n",
       "   'model': 'Imperial I-class Star Destroyer',\n",
       "   'manufacturer': 'Kuat Drive Yards',\n",
       "   'cost_in_credits': '150000000',\n",
       "   'length': '1,600',\n",
       "   'max_atmosphering_speed': '975',\n",
       "   'crew': '47,060',\n",
       "   'passengers': 'n/a',\n",
       "   'cargo_capacity': '36000000',\n",
       "   'consumables': '2 years',\n",
       "   'hyperdrive_rating': '2.0',\n",
       "   'MGLT': '60',\n",
       "   'starship_class': 'Star Destroyer',\n",
       "   'pilots': [],\n",
       "   'films': ['https://swapi.dev/api/films/1/',\n",
       "    'https://swapi.dev/api/films/2/',\n",
       "    'https://swapi.dev/api/films/3/'],\n",
       "   'created': '2014-12-10T15:08:19.848000Z',\n",
       "   'edited': '2014-12-20T21:23:49.870000Z',\n",
       "   'url': 'https://swapi.dev/api/starships/3/'},\n",
       "  {'name': 'Sentinel-class landing craft',\n",
       "   'model': 'Sentinel-class landing craft',\n",
       "   'manufacturer': 'Sienar Fleet Systems, Cyngus Spaceworks',\n",
       "   'cost_in_credits': '240000',\n",
       "   'length': '38',\n",
       "   'max_atmosphering_speed': '1000',\n",
       "   'crew': '5',\n",
       "   'passengers': '75',\n",
       "   'cargo_capacity': '180000',\n",
       "   'consumables': '1 month',\n",
       "   'hyperdrive_rating': '1.0',\n",
       "   'MGLT': '70',\n",
       "   'starship_class': 'landing craft',\n",
       "   'pilots': [],\n",
       "   'films': ['https://swapi.dev/api/films/1/'],\n",
       "   'created': '2014-12-10T15:48:00.586000Z',\n",
       "   'edited': '2014-12-20T21:23:49.873000Z',\n",
       "   'url': 'https://swapi.dev/api/starships/5/'},\n",
       "  {'name': 'Death Star',\n",
       "   'model': 'DS-1 Orbital Battle Station',\n",
       "   'manufacturer': 'Imperial Department of Military Research, Sienar Fleet Systems',\n",
       "   'cost_in_credits': '1000000000000',\n",
       "   'length': '120000',\n",
       "   'max_atmosphering_speed': 'n/a',\n",
       "   'crew': '342,953',\n",
       "   'passengers': '843,342',\n",
       "   'cargo_capacity': '1000000000000',\n",
       "   'consumables': '3 years',\n",
       "   'hyperdrive_rating': '4.0',\n",
       "   'MGLT': '10',\n",
       "   'starship_class': 'Deep Space Mobile Battlestation',\n",
       "   'pilots': [],\n",
       "   'films': ['https://swapi.dev/api/films/1/'],\n",
       "   'created': '2014-12-10T16:36:50.509000Z',\n",
       "   'edited': '2014-12-20T21:26:24.783000Z',\n",
       "   'url': 'https://swapi.dev/api/starships/9/'},\n",
       "  {'name': 'Millennium Falcon',\n",
       "   'model': 'YT-1300 light freighter',\n",
       "   'manufacturer': 'Corellian Engineering Corporation',\n",
       "   'cost_in_credits': '100000',\n",
       "   'length': '34.37',\n",
       "   'max_atmosphering_speed': '1050',\n",
       "   'crew': '4',\n",
       "   'passengers': '6',\n",
       "   'cargo_capacity': '100000',\n",
       "   'consumables': '2 months',\n",
       "   'hyperdrive_rating': '0.5',\n",
       "   'MGLT': '75',\n",
       "   'starship_class': 'Light freighter',\n",
       "   'pilots': ['https://swapi.dev/api/people/13/',\n",
       "    'https://swapi.dev/api/people/14/',\n",
       "    'https://swapi.dev/api/people/25/',\n",
       "    'https://swapi.dev/api/people/31/'],\n",
       "   'films': ['https://swapi.dev/api/films/1/',\n",
       "    'https://swapi.dev/api/films/2/',\n",
       "    'https://swapi.dev/api/films/3/'],\n",
       "   'created': '2014-12-10T16:59:45.094000Z',\n",
       "   'edited': '2014-12-20T21:23:49.880000Z',\n",
       "   'url': 'https://swapi.dev/api/starships/10/'},\n",
       "  {'name': 'Y-wing',\n",
       "   'model': 'BTL Y-wing',\n",
       "   'manufacturer': 'Koensayr Manufacturing',\n",
       "   'cost_in_credits': '134999',\n",
       "   'length': '14',\n",
       "   'max_atmosphering_speed': '1000km',\n",
       "   'crew': '2',\n",
       "   'passengers': '0',\n",
       "   'cargo_capacity': '110',\n",
       "   'consumables': '1 week',\n",
       "   'hyperdrive_rating': '1.0',\n",
       "   'MGLT': '80',\n",
       "   'starship_class': 'assault starfighter',\n",
       "   'pilots': [],\n",
       "   'films': ['https://swapi.dev/api/films/1/',\n",
       "    'https://swapi.dev/api/films/2/',\n",
       "    'https://swapi.dev/api/films/3/'],\n",
       "   'created': '2014-12-12T11:00:39.817000Z',\n",
       "   'edited': '2014-12-20T21:23:49.883000Z',\n",
       "   'url': 'https://swapi.dev/api/starships/11/'},\n",
       "  {'name': 'X-wing',\n",
       "   'model': 'T-65 X-wing',\n",
       "   'manufacturer': 'Incom Corporation',\n",
       "   'cost_in_credits': '149999',\n",
       "   'length': '12.5',\n",
       "   'max_atmosphering_speed': '1050',\n",
       "   'crew': '1',\n",
       "   'passengers': '0',\n",
       "   'cargo_capacity': '110',\n",
       "   'consumables': '1 week',\n",
       "   'hyperdrive_rating': '1.0',\n",
       "   'MGLT': '100',\n",
       "   'starship_class': 'Starfighter',\n",
       "   'pilots': ['https://swapi.dev/api/people/1/',\n",
       "    'https://swapi.dev/api/people/9/',\n",
       "    'https://swapi.dev/api/people/18/',\n",
       "    'https://swapi.dev/api/people/19/'],\n",
       "   'films': ['https://swapi.dev/api/films/1/',\n",
       "    'https://swapi.dev/api/films/2/',\n",
       "    'https://swapi.dev/api/films/3/'],\n",
       "   'created': '2014-12-12T11:19:05.340000Z',\n",
       "   'edited': '2014-12-20T21:23:49.886000Z',\n",
       "   'url': 'https://swapi.dev/api/starships/12/'},\n",
       "  {'name': 'TIE Advanced x1',\n",
       "   'model': 'Twin Ion Engine Advanced x1',\n",
       "   'manufacturer': 'Sienar Fleet Systems',\n",
       "   'cost_in_credits': 'unknown',\n",
       "   'length': '9.2',\n",
       "   'max_atmosphering_speed': '1200',\n",
       "   'crew': '1',\n",
       "   'passengers': '0',\n",
       "   'cargo_capacity': '150',\n",
       "   'consumables': '5 days',\n",
       "   'hyperdrive_rating': '1.0',\n",
       "   'MGLT': '105',\n",
       "   'starship_class': 'Starfighter',\n",
       "   'pilots': ['https://swapi.dev/api/people/4/'],\n",
       "   'films': ['https://swapi.dev/api/films/1/'],\n",
       "   'created': '2014-12-12T11:21:32.991000Z',\n",
       "   'edited': '2014-12-20T21:23:49.889000Z',\n",
       "   'url': 'https://swapi.dev/api/starships/13/'},\n",
       "  {'name': 'Executor',\n",
       "   'model': 'Executor-class star dreadnought',\n",
       "   'manufacturer': 'Kuat Drive Yards, Fondor Shipyards',\n",
       "   'cost_in_credits': '1143350000',\n",
       "   'length': '19000',\n",
       "   'max_atmosphering_speed': 'n/a',\n",
       "   'crew': '279,144',\n",
       "   'passengers': '38000',\n",
       "   'cargo_capacity': '250000000',\n",
       "   'consumables': '6 years',\n",
       "   'hyperdrive_rating': '2.0',\n",
       "   'MGLT': '40',\n",
       "   'starship_class': 'Star dreadnought',\n",
       "   'pilots': [],\n",
       "   'films': ['https://swapi.dev/api/films/2/',\n",
       "    'https://swapi.dev/api/films/3/'],\n",
       "   'created': '2014-12-15T12:31:42.547000Z',\n",
       "   'edited': '2014-12-20T21:23:49.893000Z',\n",
       "   'url': 'https://swapi.dev/api/starships/15/'},\n",
       "  {'name': 'Rebel transport',\n",
       "   'model': 'GR-75 medium transport',\n",
       "   'manufacturer': 'Gallofree Yards, Inc.',\n",
       "   'cost_in_credits': 'unknown',\n",
       "   'length': '90',\n",
       "   'max_atmosphering_speed': '650',\n",
       "   'crew': '6',\n",
       "   'passengers': '90',\n",
       "   'cargo_capacity': '19000000',\n",
       "   'consumables': '6 months',\n",
       "   'hyperdrive_rating': '4.0',\n",
       "   'MGLT': '20',\n",
       "   'starship_class': 'Medium transport',\n",
       "   'pilots': [],\n",
       "   'films': ['https://swapi.dev/api/films/2/',\n",
       "    'https://swapi.dev/api/films/3/'],\n",
       "   'created': '2014-12-15T12:34:52.264000Z',\n",
       "   'edited': '2014-12-20T21:23:49.895000Z',\n",
       "   'url': 'https://swapi.dev/api/starships/17/'}]}"
      ]
     },
     "execution_count": 3,
     "metadata": {},
     "output_type": "execute_result"
    }
   ],
   "source": [
    "# Webscraping the starship API data\n",
    "response = requests.get(\"https://swapi.dev/api/starships\")\n",
    "data = response.json()\n",
    "data    "
   ]
  },
  {
   "cell_type": "code",
   "execution_count": 4,
   "metadata": {},
   "outputs": [
    {
     "name": "stdout",
     "output_type": "stream",
     "text": [
      "retrieving next page https://swapi.dev/api/starships/?page=2\n",
      "retrieving next page https://swapi.dev/api/starships/?page=3\n",
      "retrieving next page https://swapi.dev/api/starships/?page=4\n"
     ]
    }
   ],
   "source": [
    "# retrieving all the pages\n",
    "while data['next'] is not None:\n",
    "    print(\"retrieving next page\", data[\"next\"])\n",
    "    response = requests.get(data[\"next\"])\n",
    "    data = response.json()"
   ]
  },
  {
   "cell_type": "code",
   "execution_count": 5,
   "metadata": {},
   "outputs": [
    {
     "data": {
      "text/plain": [
       "36"
      ]
     },
     "execution_count": 5,
     "metadata": {},
     "output_type": "execute_result"
    }
   ],
   "source": [
    "# Checking all the retrieved pages\n",
    "data['count']"
   ]
  },
  {
   "cell_type": "code",
   "execution_count": 6,
   "metadata": {},
   "outputs": [
    {
     "name": "stdout",
     "output_type": "stream",
     "text": [
      "Millennium Falcon\n",
      "Imperial shuttle\n"
     ]
    }
   ],
   "source": [
    "def starships(link):\n",
    "    response = requests.get(link)\n",
    "    api_results = json.loads(response.content)\n",
    "    for character in api_results['results']:\n",
    "        if \"https://swapi.dev/api/people/13/\" in character['pilots']:\n",
    "            yield character['name']\n",
    "    if 'next' in api_results and api_results['next'] is not None:\n",
    "        next_page = starships(api_results['next'])\n",
    "        for page in next_page:\n",
    "            yield page\n",
    "\n",
    "pilot_name = starships(\"https://swapi.dev/api/starships\")\n",
    "for i in pilot_name:\n",
    "    print(i)"
   ]
  }
 ],
 "metadata": {
  "kernelspec": {
   "display_name": "Python 3",
   "language": "python",
   "name": "python3"
  },
  "language_info": {
   "codemirror_mode": {
    "name": "ipython",
    "version": 3
   },
   "file_extension": ".py",
   "mimetype": "text/x-python",
   "name": "python",
   "nbconvert_exporter": "python",
   "pygments_lexer": "ipython3",
   "version": "3.11.1"
  },
  "orig_nbformat": 4,
  "vscode": {
   "interpreter": {
    "hash": "acd2ce6c7faff7b1a0bc37552e4fafa8b9624856f11cac0dc7e108d2381226fd"
   }
  }
 },
 "nbformat": 4,
 "nbformat_minor": 2
}
