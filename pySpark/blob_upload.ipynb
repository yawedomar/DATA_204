{
 "cells": [
  {
   "attachments": {},
   "cell_type": "markdown",
   "metadata": {},
   "source": [
    "Task:\n",
    "- Create a python project\n",
    "- Access the blob container we just made, in our local machines, read and write"
   ]
  },
  {
   "cell_type": "code",
   "execution_count": 15,
   "metadata": {},
   "outputs": [],
   "source": [
    "from azure.storage.blob import BlobServiceClient, BlobClient"
   ]
  },
  {
   "attachments": {},
   "cell_type": "markdown",
   "metadata": {},
   "source": [
    "Create a container in azure using python"
   ]
  },
  {
   "cell_type": "code",
   "execution_count": 16,
   "metadata": {},
   "outputs": [],
   "source": [
    "# connection_string = \"<your-storage-account-connection-string>\" \n",
    "# container_name = \"<your-container-name>\" \n",
    "# file_path = \"<path-to-your-file>\" \n",
    "# blob_service_client = BlobServiceClient.from_connection_string(connection_string) \n",
    "# blob_client = blob_service_client.get_blob_client(container_name, file_path) "
   ]
  },
  {
   "attachments": {},
   "cell_type": "markdown",
   "metadata": {},
   "source": [
    "Write to container using python"
   ]
  },
  {
   "cell_type": "code",
   "execution_count": 17,
   "metadata": {},
   "outputs": [],
   "source": [
    "connection_string = \"DefaultEndpointsProtocol=https;AccountName=spartablob;AccountKey=/R7cWbw6lVVzdHlkIxZmxa0pFcKxO7wK2m9aVjtn16lKnAjJzDqmyIt7Do/PaS/GwX2U3hI+4WJG+AStIlwYxQ==;EndpointSuffix=core.windows.net\" \n",
    "container_name = \"databricks\" \n",
    "file_path = \"gapminder.csv\" \n",
    "blob_service_client = BlobServiceClient.from_connection_string(connection_string) \n",
    "blob_client = blob_service_client.get_blob_client(container_name, file_path) "
   ]
  },
  {
   "cell_type": "code",
   "execution_count": 18,
   "metadata": {},
   "outputs": [],
   "source": [
    "# Download the file to a local temporary directory\n",
    "local_file = 'temp_file.csv'\n",
    "with open(local_file, \"wb\") as data:\n",
    "    data.write(blob_client.download_blob().readall())"
   ]
  },
  {
   "cell_type": "code",
   "execution_count": 19,
   "metadata": {},
   "outputs": [],
   "source": [
    "with open(file_path, \"rb\") as data:\n",
    "    blob_client.upload_blob(data,overwrite=True)"
   ]
  }
 ],
 "metadata": {
  "kernelspec": {
   "display_name": "Python 3",
   "language": "python",
   "name": "python3"
  },
  "language_info": {
   "codemirror_mode": {
    "name": "ipython",
    "version": 3
   },
   "file_extension": ".py",
   "mimetype": "text/x-python",
   "name": "python",
   "nbconvert_exporter": "python",
   "pygments_lexer": "ipython3",
   "version": "3.11.1"
  },
  "orig_nbformat": 4,
  "vscode": {
   "interpreter": {
    "hash": "acd2ce6c7faff7b1a0bc37552e4fafa8b9624856f11cac0dc7e108d2381226fd"
   }
  }
 },
 "nbformat": 4,
 "nbformat_minor": 2
}
